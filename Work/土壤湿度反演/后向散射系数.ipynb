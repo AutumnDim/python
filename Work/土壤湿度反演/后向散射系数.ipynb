{
 "cells": [
  {
   "cell_type": "code",
   "execution_count": 40,
   "metadata": {},
   "outputs": [
    {
     "data": {
      "text/html": [
       "\n",
       "            <style>\n",
       "                .geemap-dark {\n",
       "                    --jp-widgets-color: white;\n",
       "                    --jp-widgets-label-color: white;\n",
       "                    --jp-ui-font-color1: white;\n",
       "                    --jp-layout-color2: #454545;\n",
       "                    background-color: #383838;\n",
       "                }\n",
       "\n",
       "                .geemap-dark .jupyter-button {\n",
       "                    --jp-layout-color3: #383838;\n",
       "                }\n",
       "\n",
       "                .geemap-colab {\n",
       "                    background-color: var(--colab-primary-surface-color, white);\n",
       "                }\n",
       "\n",
       "                .geemap-colab .jupyter-button {\n",
       "                    --jp-layout-color3: var(--colab-primary-surface-color, white);\n",
       "                }\n",
       "            </style>\n",
       "            "
      ],
      "text/plain": [
       "<IPython.core.display.HTML object>"
      ]
     },
     "metadata": {},
     "output_type": "display_data"
    }
   ],
   "source": [
    "import geemap \n",
    "import ee \n",
    "import math\n",
    "ee.Initialize()\n",
    "#ee.Authenticate()\n"
   ]
  },
  {
   "cell_type": "code",
   "execution_count": 41,
   "metadata": {},
   "outputs": [
    {
     "data": {
      "text/html": [
       "\n",
       "            <style>\n",
       "                .geemap-dark {\n",
       "                    --jp-widgets-color: white;\n",
       "                    --jp-widgets-label-color: white;\n",
       "                    --jp-ui-font-color1: white;\n",
       "                    --jp-layout-color2: #454545;\n",
       "                    background-color: #383838;\n",
       "                }\n",
       "\n",
       "                .geemap-dark .jupyter-button {\n",
       "                    --jp-layout-color3: #383838;\n",
       "                }\n",
       "\n",
       "                .geemap-colab {\n",
       "                    background-color: var(--colab-primary-surface-color, white);\n",
       "                }\n",
       "\n",
       "                .geemap-colab .jupyter-button {\n",
       "                    --jp-layout-color3: var(--colab-primary-surface-color, white);\n",
       "                }\n",
       "            </style>\n",
       "            "
      ],
      "text/plain": [
       "<IPython.core.display.HTML object>"
      ]
     },
     "metadata": {},
     "output_type": "display_data"
    }
   ],
   "source": [
    "Map = geemap.Map()\n",
    "roi01 = geemap.shp_to_ee(r\"F:\\随机森林\\土壤湿度反演\\region\\area_gcs.shp\").geometry()\n",
    "#roi01 = ee.Geometry.Rectangle([113, 26, 119, 30], None, False)\n",
    "\n",
    "\n"
   ]
  },
  {
   "cell_type": "code",
   "execution_count": 42,
   "metadata": {},
   "outputs": [
    {
     "data": {
      "text/html": [
       "\n",
       "            <style>\n",
       "                .geemap-dark {\n",
       "                    --jp-widgets-color: white;\n",
       "                    --jp-widgets-label-color: white;\n",
       "                    --jp-ui-font-color1: white;\n",
       "                    --jp-layout-color2: #454545;\n",
       "                    background-color: #383838;\n",
       "                }\n",
       "\n",
       "                .geemap-dark .jupyter-button {\n",
       "                    --jp-layout-color3: #383838;\n",
       "                }\n",
       "\n",
       "                .geemap-colab {\n",
       "                    background-color: var(--colab-primary-surface-color, white);\n",
       "                }\n",
       "\n",
       "                .geemap-colab .jupyter-button {\n",
       "                    --jp-layout-color3: var(--colab-primary-surface-color, white);\n",
       "                }\n",
       "            </style>\n",
       "            "
      ],
      "text/plain": [
       "<IPython.core.display.HTML object>"
      ]
     },
     "metadata": {},
     "output_type": "display_data"
    }
   ],
   "source": [
    "\n",
    "Optical_dataset = ee.ImageCollection(\"COPERNICUS/S2_SR_HARMONIZED\")\n",
    "SARdataset =ee.ImageCollection(\"COPERNICUS/S1_GRD\")\n",
    "dataset1 = Optical_dataset.filterBounds(roi01) \\\n",
    "                      .filterDate(\"2023-1-1\",\"2023-12-31\") \\\n",
    "                      .filter(ee.Filter.lt('CLOUDY_PIXEL_PERCENTAGE',5))\n",
    "image1=dataset1.median().clip(roi01).divide(10000)  #归一化处理 方便后续进行植被指数的计算\n",
    "#Map.addLayer(image1, {'min': 0, 'max': 0.3, 'bands': ['B4', 'B3', 'B2']},\"RGB\")\n",
    "\n",
    "visParam = {\n",
    "  'min': -1,\n",
    "  'max': 1,\n",
    "  'palette': [\"FFFFFF\", \"CE7E45\", \"DF923D\", \"F1B555\", \"FCD163\",\n",
    "            \"99B718\", \"74A901\", \"66A000\", \"529400\", \"3E8601\",\n",
    "            \"207401\", \"056201\", \"004C00\", \"023B01\", \"012E01\",\n",
    "            \"011D01\", \"011301\"]\n",
    "}\n",
    "MNDWI01=image1.expression(\"(R-SWIR)/(R+SWIR)\",{\n",
    "                  \"R\":image1.select(\"B4\"),\"SWIR\":image1.select(\"B11\")}).rename('MNDWI')\n",
    "#print(MNDWI01)\n",
    "#Map.addLayer(MNDWI01, visParam, \"MNDWI01\")\n",
    "# 筛选SAR影像并计算，找到一副与光学影像日期靠近的影像\n",
    "\n",
    "#VV信号更强  IW模式分辨率高且范围广  两者为最佳搭配搭配\n",
    "\n",
    "SARdataset = ee.ImageCollection('COPERNICUS/S1_GRD').filterBounds(roi01) \\\n",
    "        .filterDate(\"2023-1-1\",\"2023-12-31\") \\\n",
    "        .filter(ee.Filter.listContains('transmitterReceiverPolarisation', 'VV')) \\\n",
    "        .filter(ee.Filter.eq('instrumentMode', 'IW')) \n",
    "imgVV01 = SARdataset.median()\n",
    "\n",
    "\n",
    "# 对用于水云模型的影像进行波段叠加\n",
    "sar_vv= imgVV01.clip(roi01).select('VV').rename('all_ref')\n",
    "sar_angle=imgVV01.clip(roi01).select('angle')\n",
    "# m.addLayer(imgVV01.select('VV'), {min: -25, max: 5})\n",
    "# m.addLayer(sar_vv, {'min': -25, 'max': 5})\n",
    "# m.addLayer(sar_angle, {min: 0, max: 90})\n",
    "all_layer = sar_vv.addBands(sar_angle).addBands(MNDWI01)\n",
    "\n",
    "\n",
    "# 参照水云模型的公式对土壤后向散射系数求解\n",
    "def soil_ref(image):\n",
    "  # 计算植被层的双程衰减因子\n",
    "  T2 = image.expression(\n",
    "    'exp(-2 * 0.3334 * MNDWI / cos(angle))', {\n",
    "      'MNDWI': image.select('MNDWI'),\n",
    "      'angle': image.select('angle')})\n",
    "  # 植被层后向反射系数\n",
    "  veg_back = image.expression(\n",
    "    '0.1449 * MNDWI * cos(angle) * (1 - T2)', {\n",
    "      'MNDWI': image.select('MNDWI'),\n",
    "      'angle': image.select('angle'),\n",
    "      'T2': T2})\n",
    "  # 计算土壤层后向反射系数\n",
    "  soil_back = image.select('all_ref').subtract(veg_back).divide(T2)\n",
    "  return soil_back\n",
    "# 应用 soil_ref 函数\n",
    "soil = soil_ref(all_layer)\n",
    "#soil = soil.multiply(soil.gt(-50)).multiply(soil.lt(0))\n",
    "\n",
    "#soil.getInfo() \n",
    "#geemap.download_ee_image(soil.clip(roi01), r\"F:\\随机森林\\土壤湿度反演\\img\\soilk.tif\", region=roi01, crs='epsg:4326', scale=30)"
   ]
  },
  {
   "cell_type": "code",
   "execution_count": 45,
   "metadata": {},
   "outputs": [
    {
     "data": {
      "text/html": [
       "\n",
       "            <style>\n",
       "                .geemap-dark {\n",
       "                    --jp-widgets-color: white;\n",
       "                    --jp-widgets-label-color: white;\n",
       "                    --jp-ui-font-color1: white;\n",
       "                    --jp-layout-color2: #454545;\n",
       "                    background-color: #383838;\n",
       "                }\n",
       "\n",
       "                .geemap-dark .jupyter-button {\n",
       "                    --jp-layout-color3: #383838;\n",
       "                }\n",
       "\n",
       "                .geemap-colab {\n",
       "                    background-color: var(--colab-primary-surface-color, white);\n",
       "                }\n",
       "\n",
       "                .geemap-colab .jupyter-button {\n",
       "                    --jp-layout-color3: var(--colab-primary-surface-color, white);\n",
       "                }\n",
       "            </style>\n",
       "            "
      ],
      "text/plain": [
       "<IPython.core.display.HTML object>"
      ]
     },
     "metadata": {},
     "output_type": "display_data"
    }
   ],
   "source": [
    "SM = ee.Image('projects/ee-qiumenghu88/assets/soil_moisture').rename('SM')\n",
    "soil = soil.reproject(crs=SM.projection(), scale=10)\n",
    "soil = soil.clip(roi01).rename('soil')\n",
    "sample_points = SM.sample(region= roi01,scale= 10,numPixels=500,geometries= True)\n",
    "#提取样本点特征\n",
    "trainingData = soil.sampleRegions(collection=sample_points,\n",
    "  properties=['SM'],  \n",
    "  scale=10\n",
    ")\n",
    "#定义并训练分类器\n",
    "rf = ee.Classifier.smileRandomForest(100)\\\n",
    "  .setOutputMode('REGRESSION')\\\n",
    "  .train(features=trainingData,\n",
    "          classProperty='SM',\n",
    "          inputProperties=['soil'])\n",
    "classified = soil.classify(rf)\n",
    "Map.addLayer(classified,{})\n",
    "Map\n",
    "#geemap.download_ee_image(soil_moisture.clip(roi01),r'F:\\随机森林\\土壤湿度反演\\img\\smmk.tif',region=roi01,scale=30,crs='EPSG:4527',max_tile_dim=1000)\n",
    "#geemap.download_ee_image(classified.clip(roi01), r\"F:\\随机森林\\土壤湿度反演\\img\\smm.tif\",region=roi01,scale=30,crs='EPSG:4527',max_tile_dim=1000)\n",
    "#geemap.download_ee_image(soil.clip(roi01), r\"F:\\随机森林\\土壤湿度反演\\img\\soilk.tif\", region=roi01, crs='epsg:4326', scale=30,max_tile_dim=1000)\n",
    "geemap.ee_export_image_to_drive(classified.clip(roi01),description = 'soil_moisture',region=roi01,scale = 10,maxPixels = 1e13)"
   ]
  }
 ],
 "metadata": {
  "kernelspec": {
   "display_name": "base",
   "language": "python",
   "name": "python3"
  },
  "language_info": {
   "codemirror_mode": {
    "name": "ipython",
    "version": 3
   },
   "file_extension": ".py",
   "mimetype": "text/x-python",
   "name": "python",
   "nbconvert_exporter": "python",
   "pygments_lexer": "ipython3",
   "version": "3.10.14"
  }
 },
 "nbformat": 4,
 "nbformat_minor": 2
}
