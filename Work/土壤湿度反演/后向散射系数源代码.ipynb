{
 "cells": [
  {
   "cell_type": "code",
   "execution_count": 1,
   "id": "38859021",
   "metadata": {},
   "outputs": [],
   "source": [
    "import geemap, ee\n",
    "import math\n",
    "\n",
    "# ee.Authenticate()\n",
    "# ee.Initialize()\n",
    "Map = geemap.Map()\n",
    "# Map"
   ]
  },
  {
   "cell_type": "code",
   "execution_count": 2,
   "id": "e1252115",
   "metadata": {},
   "outputs": [],
   "source": [
    "roi01 = geemap.shp_to_ee(r'E:/work/soil_shp/points/area.shp').geometry()"
   ]
  },
  {
   "cell_type": "code",
   "execution_count": null,
   "id": "abf1309a",
   "metadata": {},
   "outputs": [],
   "source": [
    "Map.centerObject(roi01,7);\n",
    "\n",
    "// 加载光学、SAR数据 \n",
    "// 筛选光学影像并计算 MNDWI \n",
    "var Optical_dataset = ee.ImageCollection(\"COPERNICUS/S2_SR_HARMONIZED\")\n",
    "var SARdataset =ee.ImageCollection(\"COPERNICUS/S1_GRD\")\n",
    "\n",
    "var dataset1 = Optical_dataset.filterBounds(roi01)\n",
    "                      .filterDate(\"2023-7-1\",\"2023-9-1\")\n",
    "                      .filter(ee.Filter.lt('CLOUDY_PIXEL_PERCENTAGE',5));\n",
    "var image1=dataset1.first().clip(roi01).divide(10000)\n",
    "Map.addLayer(image1, {min: 0, max: 0.3,bands: ['B4', 'B3', 'B2']},\"RGB\")\n",
    "\n",
    "var visParam = {  \n",
    "  min: -1,   \n",
    "  max: 1,  \n",
    "  palette: [\"FFFFFF\", \"CE7E45\", \"DF923D\", \"F1B555\", \"FCD163\",   \n",
    "            \"99B718\", \"74A901\", \"66A000\", \"529400\", \"3E8601\",   \n",
    "            \"207401\", \"056201\", \"004C00\", \"023B01\", \"012E01\",   \n",
    "            \"011D01\", \"011301\"]  \n",
    "};  \n",
    "\n",
    "var MNDWI01=image1.expression(\"(R-SWIR)/(R+SWIR)\",{\n",
    "                  \"R\":image1.select(\"B4\"),\"SWIR\":image1.select(\"B11\")}).rename('MNDWI')\n",
    "print(MNDWI01)\n",
    " Map.addLayer(MNDWI01, visParam, \"MNDWI01\");\n",
    "// 筛选SAR影像并计算，找到一副与光学影像日期靠近的影像 \n",
    "var SARdataset = ee.ImageCollection('COPERNICUS/S1_GRD').filterBounds(roi01)\n",
    "        .filterDate(\"2023-7-1\",\"2023-9-1\")\n",
    "        .filter(ee.Filter.listContains('transmitterReceiverPolarisation', 'VV'))\n",
    "        .filter(ee.Filter.eq('instrumentMode', 'IW'))\n",
    "        .select('VV')\n",
    "var imgVV01=ee.Image('COPERNICUS/S1_GRD/S1A_IW_GRDH_1SDV_20230808T103530_20230808T103555_049783_05FC90_EE91')\n",
    "\n",
    "// 对用于水云模型的影像进行波段叠加\n",
    "var sar_vv= imgVV01.clip(roi01).select('VV').rename('all_ref')             \n",
    "var sar_angle=imgVV01.clip(roi01).select('angle') \n",
    "// Map.addLayer(imgVV01.select('VV'), {min: -25, max: 5})\n",
    "Map.addLayer(sar_vv, {min: -25, max: 5})\n",
    "// Map.addLayer(sar_angle, {min: 0, max: 90})\n",
    "var all_layer = sar_vv.addBands(sar_angle).addBands(MNDWI01);\n",
    "\n",
    "// 参照水云模型的公式对土壤后向散射系数求解\n",
    "function soil_ref(image){\n",
    "  // 计算植被层的双程衰减因子\n",
    "  var T2 = image.expression(\n",
    "    'exp(-2 * 0.3334 * MNDWI / cos(angle))', {\n",
    "      'MNDWI': image.select('MNDWI'),\n",
    "      'angle': image.select('angle')});\n",
    "  // 植被层后向反射系数\n",
    "  var veg_back = image.expression(\n",
    "    '0.1449 * MNDWI * cos(angle) * (1 - T2)', {\n",
    "      'MNDWI': image.select('MNDWI'),\n",
    "      'angle': image.select('angle'),\n",
    "      'T2': T2});\n",
    "  // 计算土壤层后向反射系数\n",
    "  var soil_back = image.select('all_ref').subtract(veg_back).divide(T2);\n",
    "  // 返回 soil_back\n",
    "  return soil_back;}\n",
    "// 应用 soil_ref 函数\n",
    "var soil = soil_ref(all_layer);\n",
    "\n",
    "Map.addLayer(soil, {min: -25, max: 35},\"soil\")\n",
    "// 导出数据 \n",
    "// Export.image.toDrive({\n",
    "//   image: soil,\n",
    "//   description: 'soil_ref',\n",
    "//   scale: 10,\n",
    "//   region: roi01,\n",
    "//   maxPixels: 1e13\n",
    "// });"
   ]
  }
 ],
 "metadata": {
  "kernelspec": {
   "display_name": "Python 3 (ipykernel)",
   "language": "python",
   "name": "python3"
  },
  "language_info": {
   "codemirror_mode": {
    "name": "ipython",
    "version": 3
   },
   "file_extension": ".py",
   "mimetype": "text/x-python",
   "name": "python",
   "nbconvert_exporter": "python",
   "pygments_lexer": "ipython3",
   "version": "3.10.13"
  },
  "varInspector": {
   "cols": {
    "lenName": 16,
    "lenType": 16,
    "lenVar": 40
   },
   "kernels_config": {
    "python": {
     "delete_cmd_postfix": "",
     "delete_cmd_prefix": "del ",
     "library": "var_list.py",
     "varRefreshCmd": "print(var_dic_list())"
    },
    "r": {
     "delete_cmd_postfix": ") ",
     "delete_cmd_prefix": "rm(",
     "library": "var_list.r",
     "varRefreshCmd": "cat(var_dic_list()) "
    }
   },
   "types_to_exclude": [
    "module",
    "function",
    "builtin_function_or_method",
    "instance",
    "_Feature"
   ],
   "window_display": false
  }
 },
 "nbformat": 4,
 "nbformat_minor": 5
}
