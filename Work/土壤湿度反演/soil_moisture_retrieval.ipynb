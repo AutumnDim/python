{
 "cells": [
  {
   "cell_type": "code",
   "execution_count": 1,
   "id": "38859021",
   "metadata": {},
   "outputs": [],
   "source": [
    "import geemap, ee\n",
    "import math\n",
    "\n",
    "# ee.Authenticate()\n",
    "# ee.Initialize()\n",
    "Map = geemap.Map()\n",
    "# Map"
   ]
  },
  {
   "cell_type": "code",
   "execution_count": 2,
   "id": "e1252115",
   "metadata": {},
   "outputs": [
    {
     "data": {
      "text/html": [
       "\n",
       "            <style>\n",
       "                .geemap-dark {\n",
       "                    --jp-widgets-color: white;\n",
       "                    --jp-widgets-label-color: white;\n",
       "                    --jp-ui-font-color1: white;\n",
       "                    --jp-layout-color2: #454545;\n",
       "                    background-color: #383838;\n",
       "                }\n",
       "\n",
       "                .geemap-dark .jupyter-button {\n",
       "                    --jp-layout-color3: #383838;\n",
       "                }\n",
       "\n",
       "                .geemap-colab {\n",
       "                    background-color: var(--colab-primary-surface-color, white);\n",
       "                }\n",
       "\n",
       "                .geemap-colab .jupyter-button {\n",
       "                    --jp-layout-color3: var(--colab-primary-surface-color, white);\n",
       "                }\n",
       "            </style>\n",
       "            "
      ],
      "text/plain": [
       "<IPython.core.display.HTML object>"
      ]
     },
     "metadata": {},
     "output_type": "display_data"
    }
   ],
   "source": [
    "# roi01 = geemap.shp_to_ee(r\"D:\\\\work\\\\gee_\\\\gee_code\\\\土壤湿度反演\\\\region\\\\area.shp\").geometry()\n",
    "roi01 = ee.FeatureCollection(r'projects/ee-lmike18770616551/assets/area').geometry()\n",
    "r = roi = ee.Geometry.Rectangle([70, 0, 138, 55], None, False)"
   ]
  },
  {
   "cell_type": "code",
   "execution_count": 3,
   "id": "abf1309a",
   "metadata": {},
   "outputs": [
    {
     "data": {
      "text/html": [
       "\n",
       "            <style>\n",
       "                .geemap-dark {\n",
       "                    --jp-widgets-color: white;\n",
       "                    --jp-widgets-label-color: white;\n",
       "                    --jp-ui-font-color1: white;\n",
       "                    --jp-layout-color2: #454545;\n",
       "                    background-color: #383838;\n",
       "                }\n",
       "\n",
       "                .geemap-dark .jupyter-button {\n",
       "                    --jp-layout-color3: #383838;\n",
       "                }\n",
       "\n",
       "                .geemap-colab {\n",
       "                    background-color: var(--colab-primary-surface-color, white);\n",
       "                }\n",
       "\n",
       "                .geemap-colab .jupyter-button {\n",
       "                    --jp-layout-color3: var(--colab-primary-surface-color, white);\n",
       "                }\n",
       "            </style>\n",
       "            "
      ],
      "text/plain": [
       "<IPython.core.display.HTML object>"
      ]
     },
     "metadata": {},
     "output_type": "display_data"
    }
   ],
   "source": [
    "\n",
    "# Map.centerObject(roi01,7)\n",
    "\n",
    "# 加载光学、SAR数据 \n",
    "# 筛选光学影像并计算 MNDWI \n",
    "Optical_dataset = ee.ImageCollection(\"COPERNICUS/S2_SR_HARMONIZED\")\n",
    "\n",
    "dataset1 = Optical_dataset\\\n",
    "                      .filterDate(\"2023-1-1\",\"2023-12-31\")\\\n",
    "                      .filter(ee.Filter.lt('CLOUDY_PIXEL_PERCENTAGE',5))\n",
    "image1=dataset1.median().divide(10000)\n",
    "Map.addLayer(image1, {'min': 0, 'max': 0.3,'bands': ['B4', 'B3', 'B2']},\"RGB\")\n",
    "\n",
    "visParam = {  \n",
    "  'min': -1,   \n",
    "  'max': 1,  \n",
    "  'palette': [\"FFFFFF\", \"CE7E45\", \"DF923D\", \"F1B555\", \"FCD163\",   \n",
    "            \"99B718\", \"74A901\", \"66A000\", \"529400\", \"3E8601\",   \n",
    "            \"207401\", \"056201\", \"004C00\", \"023B01\", \"012E01\",   \n",
    "            \"011D01\", \"011301\"]  \n",
    "}  \n",
    "\n",
    "MNDWI01=image1.expression(\"(R-SWIR)/(R+SWIR)\",{\n",
    "                  \"R\":image1.select(\"B4\"),\"SWIR\":image1.select(\"B11\")}).rename('MNDWI')\n",
    "# print(MNDWI01)\n",
    "Map.addLayer(MNDWI01, visParam, \"MNDWI01\")\n",
    "# 筛选SAR影像并计算，找到一副与光学影像日期靠近的影像 \n",
    "SARdataset = ee.ImageCollection('COPERNICUS/S1_GRD')\\\n",
    "        .filterDate(\"2023-1-1\",\"2023-12-31\")\\\n",
    "        .filter(ee.Filter.listContains('transmitterReceiverPolarisation', 'VV'))\\\n",
    "        .filter(ee.Filter.eq('instrumentMode', 'IW'))\n",
    "# imgVV01=ee.Image('COPERNICUS/S1_GRD/S1A_IW_GRDH_1SDV_20230808T103530_20230808T103555_049783_05FC90_EE91')\n",
    "imgVV01 = SARdataset.median()\n",
    "# 对用于水云模型的影像进行波段叠加\n",
    "sar_vv= imgVV01.select('VV').rename('all_ref')             \n",
    "sar_angle=imgVV01.select('angle') \n",
    "# Map.addLayer(imgVV01.select('VV'), {min: -25, max: 5})\n",
    "Map.addLayer(sar_vv, {min: -25, max: 5},'VV')\n",
    "# Map.addLayer(sar_angle, {min: 0, max: 90})\n",
    "all_layer = sar_vv.addBands(sar_angle).addBands(MNDWI01)\n",
    "\n",
    "# 参照水云模型的公式对土壤后向散射系数求解\n",
    "def soil_ref(image):\n",
    "  # 计算植被层的双程衰减因子\n",
    "  T2 = image.expression(\n",
    "    'exp(-2 * 0.3334 * MNDWI / cos(angle))', {\n",
    "      'MNDWI': image.select('MNDWI'),\n",
    "      'angle': image.select('angle')})\n",
    "  # 植被层后向反射系数\n",
    "  veg_back = image.expression(\n",
    "    '0.1449 * MNDWI * cos(angle) * (1 - T2)', {\n",
    "      'MNDWI': image.select('MNDWI'),\n",
    "      'angle': image.select('angle'),\n",
    "      'T2': T2})\n",
    "  # 计算土壤层后向反射系数\n",
    "  soil_back = image.select('all_ref').subtract(veg_back).divide(T2)\n",
    "  # 返回 soil_back\n",
    "  return soil_back\n",
    "# 应用 soil_ref 函数\n",
    "soil = soil_ref(all_layer)\n",
    "\n",
    "soil = soil.multiply(soil.gt(-50)).multiply(soil.lt(0))\n",
    "\n",
    "# 导出数据 \n",
    "# Export.image.toDrive({\n",
    "#   image: soil,\n",
    "#   description: 'soil_ref',\n",
    "#   scale: 10,\n",
    "#   region: roi01,\n",
    "#   maxPixels: 1e13\n",
    "# })"
   ]
  },
  {
   "cell_type": "code",
   "execution_count": 4,
   "id": "4665d898",
   "metadata": {},
   "outputs": [
    {
     "data": {
      "text/html": [
       "\n",
       "            <style>\n",
       "                .geemap-dark {\n",
       "                    --jp-widgets-color: white;\n",
       "                    --jp-widgets-label-color: white;\n",
       "                    --jp-ui-font-color1: white;\n",
       "                    --jp-layout-color2: #454545;\n",
       "                    background-color: #383838;\n",
       "                }\n",
       "\n",
       "                .geemap-dark .jupyter-button {\n",
       "                    --jp-layout-color3: #383838;\n",
       "                }\n",
       "\n",
       "                .geemap-colab {\n",
       "                    background-color: var(--colab-primary-surface-color, white);\n",
       "                }\n",
       "\n",
       "                .geemap-colab .jupyter-button {\n",
       "                    --jp-layout-color3: var(--colab-primary-surface-color, white);\n",
       "                }\n",
       "            </style>\n",
       "            "
      ],
      "text/plain": [
       "<IPython.core.display.HTML object>"
      ]
     },
     "metadata": {},
     "output_type": "display_data"
    }
   ],
   "source": [
    "soil = soil.clip(roi01).rename('soil')"
   ]
  },
  {
   "cell_type": "code",
   "execution_count": 5,
   "id": "bba628b1",
   "metadata": {},
   "outputs": [
    {
     "data": {
      "text/html": [
       "\n",
       "            <style>\n",
       "                .geemap-dark {\n",
       "                    --jp-widgets-color: white;\n",
       "                    --jp-widgets-label-color: white;\n",
       "                    --jp-ui-font-color1: white;\n",
       "                    --jp-layout-color2: #454545;\n",
       "                    background-color: #383838;\n",
       "                }\n",
       "\n",
       "                .geemap-dark .jupyter-button {\n",
       "                    --jp-layout-color3: #383838;\n",
       "                }\n",
       "\n",
       "                .geemap-colab {\n",
       "                    background-color: var(--colab-primary-surface-color, white);\n",
       "                }\n",
       "\n",
       "                .geemap-colab .jupyter-button {\n",
       "                    --jp-layout-color3: var(--colab-primary-surface-color, white);\n",
       "                }\n",
       "            </style>\n",
       "            "
      ],
      "text/plain": [
       "<IPython.core.display.HTML object>"
      ]
     },
     "metadata": {},
     "output_type": "display_data"
    }
   ],
   "source": [
    "# imgVV01=ee.Image('COPERNICUS/S1_GRD/S1A_IW_GRDH_1SDV_20230808T103530_20230808T103555_049783_05FC90_EE91')\n",
    "# geemap.download_ee_image(soil.clip(roi01),r'D:\\work\\gee_\\gee_download\\土壤湿度反演\\soil.tif',region=roi01,scale=10,crs='EPSG:4326')\n",
    "# geemap.download_ee_image(SM.clip(roi01),r'D:\\work\\gee_\\gee_download\\土壤湿度反演\\SM.tif',region=roi01,scale=10,crs='EPSG:4326')\n",
    "# randomPoints = ee.FeatureCollection.randomPoints(region= roi01,points= 500)"
   ]
  },
  {
   "cell_type": "code",
   "execution_count": null,
   "id": "1d043254",
   "metadata": {},
   "outputs": [],
   "source": [
    "\n"
   ]
  },
  {
   "cell_type": "code",
   "execution_count": 6,
   "id": "afea16b3",
   "metadata": {},
   "outputs": [
    {
     "data": {
      "text/html": [
       "\n",
       "            <style>\n",
       "                .geemap-dark {\n",
       "                    --jp-widgets-color: white;\n",
       "                    --jp-widgets-label-color: white;\n",
       "                    --jp-ui-font-color1: white;\n",
       "                    --jp-layout-color2: #454545;\n",
       "                    background-color: #383838;\n",
       "                }\n",
       "\n",
       "                .geemap-dark .jupyter-button {\n",
       "                    --jp-layout-color3: #383838;\n",
       "                }\n",
       "\n",
       "                .geemap-colab {\n",
       "                    background-color: var(--colab-primary-surface-color, white);\n",
       "                }\n",
       "\n",
       "                .geemap-colab .jupyter-button {\n",
       "                    --jp-layout-color3: var(--colab-primary-surface-color, white);\n",
       "                }\n",
       "            </style>\n",
       "            "
      ],
      "text/plain": [
       "<IPython.core.display.HTML object>"
      ]
     },
     "metadata": {},
     "output_type": "display_data"
    }
   ],
   "source": [
    "\n",
    "SM = ee.Image('projects/ee-lmike18770616551/assets/soil_moisture').rename('SM')\n",
    "\n",
    "# randomPoints = ee.FeatureCollection.randomPoints(region= roi01,points= 500)\n",
    "\n",
    "samplePoints = SM.sample(region=roi01,numPixels=500,geometries=True)\n",
    "\n",
    "trainingData = soil.sampleRegions(collection=samplePoints,\n",
    "  properties=['SM'],  \n",
    "  scale=10\n",
    ")\n",
    "\n",
    "rf = ee.Classifier.smileRandomForest(100)\\\n",
    "  .setOutputMode('REGRESSION')\\\n",
    "  .train(\n",
    "    features=trainingData,\n",
    "    classProperty='SM',  \n",
    "    inputProperties=['soil']  \n",
    "  )\n",
    "\n",
    "soil_moisture = soil.classify(rf)"
   ]
  },
  {
   "cell_type": "code",
   "execution_count": 9,
   "id": "8ef70d93",
   "metadata": {},
   "outputs": [
    {
     "data": {
      "text/html": [
       "\n",
       "            <style>\n",
       "                .geemap-dark {\n",
       "                    --jp-widgets-color: white;\n",
       "                    --jp-widgets-label-color: white;\n",
       "                    --jp-ui-font-color1: white;\n",
       "                    --jp-layout-color2: #454545;\n",
       "                    background-color: #383838;\n",
       "                }\n",
       "\n",
       "                .geemap-dark .jupyter-button {\n",
       "                    --jp-layout-color3: #383838;\n",
       "                }\n",
       "\n",
       "                .geemap-colab {\n",
       "                    background-color: var(--colab-primary-surface-color, white);\n",
       "                }\n",
       "\n",
       "                .geemap-colab .jupyter-button {\n",
       "                    --jp-layout-color3: var(--colab-primary-surface-color, white);\n",
       "                }\n",
       "            </style>\n",
       "            "
      ],
      "text/plain": [
       "<IPython.core.display.HTML object>"
      ]
     },
     "metadata": {},
     "output_type": "display_data"
    },
    {
     "data": {
      "application/vnd.jupyter.widget-view+json": {
       "model_id": "2e09596867e54c7eb688e81ef69134ce",
       "version_major": 2,
       "version_minor": 0
      },
      "text/plain": [
       "SM_30.tif: |          | 0.00/15.5M (raw) [  0.0%] in 00:00 (eta:     ?)"
      ]
     },
     "metadata": {},
     "output_type": "display_data"
    }
   ],
   "source": [
    "geemap.download_ee_image(soil_moisture.clip(roi01),r'D:\\work\\gee_\\gee_download\\土壤湿度反演\\SM_30.tif',region=roi01,scale=30,crs='EPSG:4527',max_tile_dim=1000)\n",
    "# geemap.ee_export_image_to_drive(soil_moisture.clip(roi01),description = 'soil_moisture',scale = 10,maxPixels = 1e13)"
   ]
  }
 ],
 "metadata": {
  "kernelspec": {
   "display_name": "gee",
   "language": "python",
   "name": "python3"
  },
  "language_info": {
   "codemirror_mode": {
    "name": "ipython",
    "version": 3
   },
   "file_extension": ".py",
   "mimetype": "text/x-python",
   "name": "python",
   "nbconvert_exporter": "python",
   "pygments_lexer": "ipython3",
   "version": "3.10.14"
  },
  "varInspector": {
   "cols": {
    "lenName": 16,
    "lenType": 16,
    "lenVar": 40
   },
   "kernels_config": {
    "python": {
     "delete_cmd_postfix": "",
     "delete_cmd_prefix": "del ",
     "library": "var_list.py",
     "varRefreshCmd": "print(var_dic_list())"
    },
    "r": {
     "delete_cmd_postfix": ") ",
     "delete_cmd_prefix": "rm(",
     "library": "var_list.r",
     "varRefreshCmd": "cat(var_dic_list()) "
    }
   },
   "types_to_exclude": [
    "module",
    "function",
    "builtin_function_or_method",
    "instance",
    "_Feature"
   ],
   "window_display": false
  }
 },
 "nbformat": 4,
 "nbformat_minor": 5
}
