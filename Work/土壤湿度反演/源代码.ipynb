{
 "cells": [
  {
   "cell_type": "code",
   "execution_count": 2,
   "metadata": {},
   "outputs": [],
   "source": [
    "import geemap \n",
    "import ee \n",
    "ee.Initialize()\n",
    "#ee.Authenticate()"
   ]
  },
  {
   "cell_type": "code",
   "execution_count": 3,
   "metadata": {},
   "outputs": [
    {
     "data": {
      "text/html": [
       "\n",
       "            <style>\n",
       "                .geemap-dark {\n",
       "                    --jp-widgets-color: white;\n",
       "                    --jp-widgets-label-color: white;\n",
       "                    --jp-ui-font-color1: white;\n",
       "                    --jp-layout-color2: #454545;\n",
       "                    background-color: #383838;\n",
       "                }\n",
       "\n",
       "                .geemap-dark .jupyter-button {\n",
       "                    --jp-layout-color3: #383838;\n",
       "                }\n",
       "\n",
       "                .geemap-colab {\n",
       "                    background-color: var(--colab-primary-surface-color, white);\n",
       "                }\n",
       "\n",
       "                .geemap-colab .jupyter-button {\n",
       "                    --jp-layout-color3: var(--colab-primary-surface-color, white);\n",
       "                }\n",
       "            </style>\n",
       "            "
      ],
      "text/plain": [
       "<IPython.core.display.HTML object>"
      ]
     },
     "metadata": {},
     "output_type": "display_data"
    },
    {
     "data": {
      "application/vnd.jupyter.widget-view+json": {
       "model_id": "2e4bf973dc5c4a08aea61b56ce8a664a",
       "version_major": 2,
       "version_minor": 0
      },
      "text/plain": [
       "Map(center=[0, 0], controls=(WidgetControl(options=['position', 'transparent_bg'], widget=SearchDataGUI(childr…"
      ]
     },
     "execution_count": 3,
     "metadata": {},
     "output_type": "execute_result"
    }
   ],
   "source": [
    "Map = geemap.Map()\n",
    "#roi01 = geemap.shp_to_ee(r\"F:\\随机森林\\土壤湿度反演\\region\\area_gcs.shp\").geometry()\n",
    "roi = ee.Geometry.Rectangle([113, 26, 119, 30], None, False)\n",
    "Map.addLayer(roi, {}, 'Boundary')\n",
    "Map\n"
   ]
  },
  {
   "cell_type": "code",
   "execution_count": 4,
   "metadata": {},
   "outputs": [
    {
     "data": {
      "text/html": [
       "\n",
       "            <style>\n",
       "                .geemap-dark {\n",
       "                    --jp-widgets-color: white;\n",
       "                    --jp-widgets-label-color: white;\n",
       "                    --jp-ui-font-color1: white;\n",
       "                    --jp-layout-color2: #454545;\n",
       "                    background-color: #383838;\n",
       "                }\n",
       "\n",
       "                .geemap-dark .jupyter-button {\n",
       "                    --jp-layout-color3: #383838;\n",
       "                }\n",
       "\n",
       "                .geemap-colab {\n",
       "                    background-color: var(--colab-primary-surface-color, white);\n",
       "                }\n",
       "\n",
       "                .geemap-colab .jupyter-button {\n",
       "                    --jp-layout-color3: var(--colab-primary-surface-color, white);\n",
       "                }\n",
       "            </style>\n",
       "            "
      ],
      "text/plain": [
       "<IPython.core.display.HTML object>"
      ]
     },
     "metadata": {},
     "output_type": "display_data"
    }
   ],
   "source": [
    "startDate = ee.Date.fromYMD(2023,1,1)\n",
    "endDate = ee.Date.fromYMD(2023,12,31)\n",
    "#Sentinel-2 去云\n",
    "def maskCloudAndShadowsSR(image):\n",
    "  cloudProb = image.select('MSK_CLDPRB')\n",
    "  snowProb = image.select('MSK_SNWPRB')\n",
    "  cloud = cloudProb.lt(5)\n",
    "  snow = snowProb.lt(5)\n",
    "  scl = image.select('SCL')\n",
    "  shadow = scl.eq(3); # 3 = cloud shadow\n",
    "  cirrus = scl.eq(10); # 10 = cirrus\n",
    "  # Cloud probability less than 5% or cloud shadow classification\n",
    "  mask = (cloud.And(snow)).And(cirrus.neq(1)).And(shadow.neq(1))\n",
    "  return image.updateMask(mask).divide(10000).copyProperties(image, ['system:time_start'])\n",
    "#function: EVI for S2\n",
    "def funEVIS2(image,B1,B2,B3):\n",
    "  VI = image.expression('2.5 * (nir - red) / (nir + 6 * red - 7.5 * blue + 1)',\n",
    "      {\n",
    "        'blue': image.select(B1),\n",
    "        'red':  image.select(B2),\n",
    "        'nir':  image.select(B3),\n",
    "      }).rename('EVI')\n",
    "  return VI.updateMask(VI.gt(-1).And(VI.lt(1)))\n",
    "def addVIs(img):\n",
    "  nir = img.select('B8')\n",
    "  red = img.select('B4')\n",
    "  blue = img.select('B2')\n",
    "  evi = funEVIS2(img,'B2','B4','B8')\n",
    "  ndvi = img.normalizedDifference(['B8','B4']).rename('NDVI')\n",
    "  lswi = img.normalizedDifference(['B8','B11']).rename('LSWI')\n",
    "  mndwi = img.normalizedDifference(['B3','B11']).rename('mNDWI')\n",
    "  snow = mndwi.gt(0.4).And(nir.gt(0.11))\n",
    "  img =img.addBands(evi).addBands(ndvi).addBands(lswi).addBands(mndwi).updateMask(snow.eq(0))\n",
    "  # return img.select(['LSWI','EVI','NDVI','mNDWI'])\n",
    "  return img.select(['B2','B3','B4','B5','B6','B7','B8','B8A','B11','LSWI','EVI','NDVI','mNDWI'])\n",
    "#纹理信息提取\n",
    "def texture(image):\n",
    "  text = image.divide(10000).toInt32().glcmTexture() #归一化\n",
    "  texture_feature = text.select(['NDVI_contrast','NDVI_corr','NDVI_idm','NDVI_ent'])\n",
    "  return image.addBands(texture_feature)\n"
   ]
  },
  {
   "cell_type": "code",
   "execution_count": 1,
   "metadata": {},
   "outputs": [
    {
     "ename": "NameError",
     "evalue": "name 'ee' is not defined",
     "output_type": "error",
     "traceback": [
      "\u001b[1;31m---------------------------------------------------------------------------\u001b[0m",
      "\u001b[1;31mNameError\u001b[0m                                 Traceback (most recent call last)",
      "Cell \u001b[1;32mIn[1], line 1\u001b[0m\n\u001b[1;32m----> 1\u001b[0m s2Sr \u001b[38;5;241m=\u001b[39m \u001b[43mee\u001b[49m\u001b[38;5;241m.\u001b[39mImageCollection(\u001b[38;5;124m'\u001b[39m\u001b[38;5;124mCOPERNICUS/S2_SR\u001b[39m\u001b[38;5;124m'\u001b[39m)\n\u001b[0;32m      2\u001b[0m images \u001b[38;5;241m=\u001b[39m s2Sr\u001b[38;5;241m.\u001b[39mfilterDate(startDate, endDate) \\\n\u001b[0;32m      3\u001b[0m                      \u001b[38;5;241m.\u001b[39mfilterBounds(roi) \\\n\u001b[0;32m      4\u001b[0m                      \u001b[38;5;241m.\u001b[39mmap(maskCloudAndShadowsSR) \\\n\u001b[0;32m      5\u001b[0m                      \u001b[38;5;241m.\u001b[39mmap(addVIs) \\\n\u001b[0;32m      6\u001b[0m                      \u001b[38;5;241m.\u001b[39mmap(texture)\n\u001b[0;32m      7\u001b[0m composite \u001b[38;5;241m=\u001b[39m images\u001b[38;5;241m.\u001b[39mreduce(ee\u001b[38;5;241m.\u001b[39mReducer\u001b[38;5;241m.\u001b[39mpercentile([\u001b[38;5;241m10\u001b[39m,\u001b[38;5;241m50\u001b[39m,\u001b[38;5;241m90\u001b[39m]))\n",
      "\u001b[1;31mNameError\u001b[0m: name 'ee' is not defined"
     ]
    }
   ],
   "source": [
    "s2Sr = ee.ImageCollection('COPERNICUS/S2_SR')\n",
    "images = s2Sr.filterDate(startDate, endDate) \\\n",
    "                     .filterBounds(roi) \\\n",
    "                     .map(maskCloudAndShadowsSR) \\\n",
    "                     .map(addVIs) \\\n",
    "                     .map(texture)\n",
    "composite = images.reduce(ee.Reducer.percentile([10,50,90]))\n",
    "#geemap.download_ee_image(composite.clip(roi), r\"F:\\随机森林\\土壤湿度反演\\img\\composite.tif\", region=roi, crs='epsg:4326', scale=30)\n",
    "type(composite)"
   ]
  },
  {
   "cell_type": "code",
   "execution_count": null,
   "metadata": {},
   "outputs": [],
   "source": [
    "startDate = ee.Date.fromYMD(2023,1,1)\n",
    "endDate = ee.Date.fromYMD(2023,12,31)\n",
    "###############Train the classifier using data 2023#############\n",
    "empty = ee.Image().byte()\n",
    "outline = empty.paint(**{\n",
    "  'featureCollection': roi,\n",
    "  'color': 'yellow',\n",
    "  'width': 3\n",
    "})\n",
    "Map.addLayer(outline,{},\"outline\",False)\n",
    "###Data preparation###\n",
    "s2Sr = ee.ImageCollection('COPERNICUS/S2_SR')\n",
    "# filter data and location\n",
    "images = s2Sr.filterDate(startDate, endDate) \\\n",
    "                     .filterBounds(roi) \\\n",
    "                     .map(maskCloudAndShadowsSR) \\\n",
    "                     .map(addVIs) \\\n",
    "                     .map(texture)\\\n",
    "                   \n",
    "#print('Sentinel-2 Level 2')\n",
    "# print(images.size())\n",
    "# print(images.first().bandNames())\n",
    "\n",
    "#Step 1: Bands management\n",
    "composite = images.reduce(ee.Reducer.percentile([10,50,90]))\n",
    "# print(\"composite\",composite.bandNames())\n",
    "#Input variables\n",
    "texture_bands = composite.bandNames().slice(39,51)# 24 or 51\n",
    "texture_image = composite.select(texture_bands)\n",
    "spectral_bands = composite.bandNames().slice(0,39)#12 or 39\n",
    "spectral_image = composite.select(spectral_bands)\n",
    "feature_bands = composite.bandNames()\n",
    "feature_image = spectral_image.addBands(texture_image)\n",
    "# print(spectral_bands)\n",
    "# print(texture_bands)\n",
    "# print(feature_bands)\n",
    "\n",
    "#####Step2: training data########\n",
    "# all_training = Mangrove_sample.merge(Saltmarsh_sample)\n",
    "# # validation = Spartina_vad.merge(Nonspartina_vad)\n",
    "# print('all_training',all_training.size())\n",
    "training = Mangrove_sample.merge(Inland_sample).filterBounds(roi)\n",
    "print('training',training.size())\n",
    "\n",
    "training_samples = feature_image.sampleRegions(**{\n",
    "  'collection': training,\n",
    "  'properties': ['Class'],\n",
    "  'scale': 10,\n",
    "  'tileScale': 16\n",
    "})\n",
    "\n",
    "#print(training_samples.size(),testing_samples.size())\n",
    "trainingData = training_samples.randomColumn('random');#\n",
    "sample_training = trainingData.filter(ee.Filter.lte(\"random\", 0.7))\n",
    "sample_validate = trainingData.filter(ee.Filter.gt(\"random\", 0.7))\n",
    "\n",
    "classifier = ee.Classifier.smileRandomForest(50).train(**{\n",
    "  'features': trainingData,\n",
    "  'classProperty': 'Class',\n",
    "  'inputProperties': feature_bands\n",
    "  })\n",
    "\n",
    "# #对sentinel进行分类\n",
    "class_img = feature_image.clip(roi).classify(classifier)\n",
    "# m.addLayer(class_img.clip(southLine).updateMask(Guangxi_veget), {min:1,max:2, palette: ['yellow', 'green']},'original_veget',False)\n",
    "\n",
    "# #Step 4: Assess\n",
    "# explain = classifier.explain()\n",
    "# print('Explain',explain)\n",
    "\n",
    "#Save the classifier\n",
    "trees = ee.List(ee.Dictionary(classifier.explain()).get('trees'))\n",
    "dummy = ee.Feature(roi.geometry(),None)\n",
    "\n",
    "def func_nfp(x)return dummy.set('tree',x)});:\n",
    "colTree = ee.FeatureCollection(trees.map(function(x){return dummy.set('tree',x)}\n",
    "colTree = ee.FeatureCollection(trees.map(func_nfp\n",
    "))\n",
    "#print(colTree)\n",
    "Export.table.toAsset(colTree,'PapuaNewGuinea_tidal_vegetation_save_classifier2022','projects/geemap-2022/assets/PV_classifier')"
   ]
  }
 ],
 "metadata": {
  "kernelspec": {
   "display_name": "base",
   "language": "python",
   "name": "python3"
  },
  "language_info": {
   "codemirror_mode": {
    "name": "ipython",
    "version": 3
   },
   "file_extension": ".py",
   "mimetype": "text/x-python",
   "name": "python",
   "nbconvert_exporter": "python",
   "pygments_lexer": "ipython3",
   "version": "3.10.14"
  }
 },
 "nbformat": 4,
 "nbformat_minor": 2
}
