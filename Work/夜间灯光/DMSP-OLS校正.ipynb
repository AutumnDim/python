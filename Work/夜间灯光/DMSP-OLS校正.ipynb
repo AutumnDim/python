{
 "cells": [
  {
   "cell_type": "code",
   "execution_count": 1,
   "id": "550fcaa9",
   "metadata": {},
   "outputs": [],
   "source": [
    "import pandas as pd\n",
    "import os\n",
    "import geemap, ee\n",
    "import seaborn as sns\n",
    "import matplotlib.pyplot as plt\n",
    "import math"
   ]
  },
  {
   "cell_type": "code",
   "execution_count": 2,
   "id": "8aa48969",
   "metadata": {},
   "outputs": [],
   "source": [
    "Map = geemap.Map()\n",
    "shp = ee.FeatureCollection(\"projects/ee-my-lsxproject/assets/China\")\n",
    "# f_shp = r'D:\\全国基础数据\\2022省级\\中国_pro.shp'\n",
    "# shp_ee = geemap.shp_to_ee(f_shp,encoding='utf-8')\n",
    "roi = shp.geometry()\n",
    "Map.addLayer(roi)\n",
    "# Map"
   ]
  },
  {
   "cell_type": "code",
   "execution_count": 7,
   "id": "f61e36b6",
   "metadata": {},
   "outputs": [],
   "source": [
    "#读取影像\n",
    "def get_data(year):\n",
    "    dmsp = ee.ImageCollection(\"NOAA/DMSP-OLS/NIGHTTIME_LIGHTS\")\\\n",
    "        .filter(ee.Filter.calendarRange(year,year,'year'))\n",
    "    id = dmsp.aggregate_array('system:id').getInfo()\n",
    "    dmsp = ee.Image(id).select('stable_lights')\n",
    "    return dmsp\n",
    "\n",
    "# load the calibration coefficients reference file\n",
    "\n",
    "coef = pd.read_csv(r'H:\\夜间灯光\\Elvidge_DMSP_intercalib_coef.csv')\n",
    "\n",
    "# define a function that takes an image, gets its name, and returns its coefficients\n",
    "def get_coefs(img, coefdata=coef):\n",
    "    imgID = img.id().getInfo()\n",
    "    idx = coefdata['satellite']+coefdata['year'].astype(str)==imgID\n",
    "    return coefdata.loc[idx, ['c0','c1','c2']].values[0]\n",
    "\n",
    "\n",
    "    \n",
    "# define a function that wraps the ee.Image native \"expression\" function \n",
    "# and passess the image coefficients as arguments to return the calibrated image\n",
    "def calibrate_img(img):\n",
    "    c0, c1, c2 = get_coefs(img)\n",
    "    return img.expression(\"c0 + (c1 * X) + (c2 * X**2)\", {'X':img, 'c0':c0, 'c1':c1, 'c2':c2})\n",
    "\n",
    "# define a function that clips images\n",
    "def clip_img(img, upper_thresh=63, upper_set=63, lower_thresh=6, lower_set=0):\n",
    "    return img.where(img.gt(upper_thresh),upper_set).where(img.lte(lower_thresh),lower_set)\n",
    "\n",
    "# wrap these in a single function using defaults\n",
    "def calibrate_and_clip(img):\n",
    "    return clip_img(calibrate_img(img))"
   ]
  },
  {
   "cell_type": "raw",
   "id": "0fb29ac9",
   "metadata": {
    "scrolled": true
   },
   "source": [
    "dmsp = get_data(year_DMSP)"
   ]
  },
  {
   "cell_type": "raw",
   "id": "a87bcad5",
   "metadata": {},
   "source": [
    "# create a calibrated and clipped version from our 1996 composite but with our new function\n",
    "dmsp1996_clbr2 = calibrate_and_clip(dmsp)\n",
    "\n",
    "# let's create an array from this new image, just as before, so we can plot the distribution\n",
    "# dmsp1996_clbr2_arr = geemap.ee_to_numpy(dmsp1996_clbr2)"
   ]
  },
  {
   "cell_type": "code",
   "execution_count": 8,
   "id": "a4c047df",
   "metadata": {
    "collapsed": true
   },
   "outputs": [
    {
     "ename": "IndexError",
     "evalue": "index 0 is out of bounds for axis 0 with size 0",
     "output_type": "error",
     "traceback": [
      "\u001b[1;31m---------------------------------------------------------------------------\u001b[0m",
      "\u001b[1;31mIndexError\u001b[0m                                Traceback (most recent call last)",
      "\u001b[1;32m~\\AppData\\Local\\Temp\\ipykernel_9164\\270972229.py\u001b[0m in \u001b[0;36m<module>\u001b[1;34m\u001b[0m\n\u001b[0;32m      1\u001b[0m \u001b[1;32mfor\u001b[0m \u001b[0myear\u001b[0m \u001b[1;32min\u001b[0m \u001b[0mrange\u001b[0m\u001b[1;33m(\u001b[0m\u001b[1;36m2008\u001b[0m\u001b[1;33m,\u001b[0m\u001b[1;36m2019\u001b[0m\u001b[1;33m)\u001b[0m\u001b[1;33m:\u001b[0m\u001b[1;33m\u001b[0m\u001b[1;33m\u001b[0m\u001b[0m\n\u001b[0;32m      2\u001b[0m     \u001b[0mdmsp\u001b[0m \u001b[1;33m=\u001b[0m \u001b[0mget_data\u001b[0m\u001b[1;33m(\u001b[0m\u001b[0myear\u001b[0m\u001b[1;33m)\u001b[0m\u001b[1;33m\u001b[0m\u001b[1;33m\u001b[0m\u001b[0m\n\u001b[1;32m----> 3\u001b[1;33m     \u001b[0mdmsp1996_clbr2\u001b[0m \u001b[1;33m=\u001b[0m \u001b[0mcalibrate_and_clip\u001b[0m\u001b[1;33m(\u001b[0m\u001b[0mdmsp\u001b[0m\u001b[1;33m)\u001b[0m\u001b[1;33m\u001b[0m\u001b[1;33m\u001b[0m\u001b[0m\n\u001b[0m\u001b[0;32m      4\u001b[0m     \u001b[0mgeemap\u001b[0m\u001b[1;33m.\u001b[0m\u001b[0mdownload_ee_image\u001b[0m\u001b[1;33m(\u001b[0m\u001b[0mdmsp1996_clbr2\u001b[0m\u001b[1;33m.\u001b[0m\u001b[0mclip\u001b[0m\u001b[1;33m(\u001b[0m\u001b[0mroi\u001b[0m\u001b[1;33m)\u001b[0m\u001b[1;33m,\u001b[0m\u001b[1;34mr'H:\\夜间灯光\\DMSP'\u001b[0m \u001b[1;33m+\u001b[0m \u001b[0mos\u001b[0m\u001b[1;33m.\u001b[0m\u001b[0msep\u001b[0m \u001b[1;33m+\u001b[0m \u001b[0mstr\u001b[0m\u001b[1;33m(\u001b[0m\u001b[0myear\u001b[0m\u001b[1;33m)\u001b[0m \u001b[1;33m+\u001b[0m \u001b[1;34m'DMSP.tif'\u001b[0m\u001b[1;33m,\u001b[0m\u001b[0mregion\u001b[0m\u001b[1;33m=\u001b[0m\u001b[0mroi\u001b[0m\u001b[1;33m,\u001b[0m\u001b[0mcrs\u001b[0m\u001b[1;33m=\u001b[0m\u001b[1;34m'EPSG:4326'\u001b[0m\u001b[1;33m,\u001b[0m\u001b[0mscale\u001b[0m\u001b[1;33m=\u001b[0m\u001b[1;36m1000\u001b[0m\u001b[1;33m)\u001b[0m\u001b[1;33m\u001b[0m\u001b[1;33m\u001b[0m\u001b[0m\n",
      "\u001b[1;32m~\\AppData\\Local\\Temp\\ipykernel_9164\\1542279015.py\u001b[0m in \u001b[0;36mcalibrate_and_clip\u001b[1;34m(img)\u001b[0m\n\u001b[0;32m     31\u001b[0m \u001b[1;31m# wrap these in a single function using defaults\u001b[0m\u001b[1;33m\u001b[0m\u001b[1;33m\u001b[0m\u001b[0m\n\u001b[0;32m     32\u001b[0m \u001b[1;32mdef\u001b[0m \u001b[0mcalibrate_and_clip\u001b[0m\u001b[1;33m(\u001b[0m\u001b[0mimg\u001b[0m\u001b[1;33m)\u001b[0m\u001b[1;33m:\u001b[0m\u001b[1;33m\u001b[0m\u001b[1;33m\u001b[0m\u001b[0m\n\u001b[1;32m---> 33\u001b[1;33m     \u001b[1;32mreturn\u001b[0m \u001b[0mclip_img\u001b[0m\u001b[1;33m(\u001b[0m\u001b[0mcalibrate_img\u001b[0m\u001b[1;33m(\u001b[0m\u001b[0mimg\u001b[0m\u001b[1;33m)\u001b[0m\u001b[1;33m)\u001b[0m\u001b[1;33m\u001b[0m\u001b[1;33m\u001b[0m\u001b[0m\n\u001b[0m",
      "\u001b[1;32m~\\AppData\\Local\\Temp\\ipykernel_9164\\1542279015.py\u001b[0m in \u001b[0;36mcalibrate_img\u001b[1;34m(img)\u001b[0m\n\u001b[0;32m     22\u001b[0m \u001b[1;31m# and passess the image coefficients as arguments to return the calibrated image\u001b[0m\u001b[1;33m\u001b[0m\u001b[1;33m\u001b[0m\u001b[0m\n\u001b[0;32m     23\u001b[0m \u001b[1;32mdef\u001b[0m \u001b[0mcalibrate_img\u001b[0m\u001b[1;33m(\u001b[0m\u001b[0mimg\u001b[0m\u001b[1;33m)\u001b[0m\u001b[1;33m:\u001b[0m\u001b[1;33m\u001b[0m\u001b[1;33m\u001b[0m\u001b[0m\n\u001b[1;32m---> 24\u001b[1;33m     \u001b[0mc0\u001b[0m\u001b[1;33m,\u001b[0m \u001b[0mc1\u001b[0m\u001b[1;33m,\u001b[0m \u001b[0mc2\u001b[0m \u001b[1;33m=\u001b[0m \u001b[0mget_coefs\u001b[0m\u001b[1;33m(\u001b[0m\u001b[0mimg\u001b[0m\u001b[1;33m)\u001b[0m\u001b[1;33m\u001b[0m\u001b[1;33m\u001b[0m\u001b[0m\n\u001b[0m\u001b[0;32m     25\u001b[0m     \u001b[1;32mreturn\u001b[0m \u001b[0mimg\u001b[0m\u001b[1;33m.\u001b[0m\u001b[0mexpression\u001b[0m\u001b[1;33m(\u001b[0m\u001b[1;34m\"c0 + (c1 * X) + (c2 * X**2)\"\u001b[0m\u001b[1;33m,\u001b[0m \u001b[1;33m{\u001b[0m\u001b[1;34m'X'\u001b[0m\u001b[1;33m:\u001b[0m\u001b[0mimg\u001b[0m\u001b[1;33m,\u001b[0m \u001b[1;34m'c0'\u001b[0m\u001b[1;33m:\u001b[0m\u001b[0mc0\u001b[0m\u001b[1;33m,\u001b[0m \u001b[1;34m'c1'\u001b[0m\u001b[1;33m:\u001b[0m\u001b[0mc1\u001b[0m\u001b[1;33m,\u001b[0m \u001b[1;34m'c2'\u001b[0m\u001b[1;33m:\u001b[0m\u001b[0mc2\u001b[0m\u001b[1;33m}\u001b[0m\u001b[1;33m)\u001b[0m\u001b[1;33m\u001b[0m\u001b[1;33m\u001b[0m\u001b[0m\n\u001b[0;32m     26\u001b[0m \u001b[1;33m\u001b[0m\u001b[0m\n",
      "\u001b[1;32m~\\AppData\\Local\\Temp\\ipykernel_9164\\1542279015.py\u001b[0m in \u001b[0;36mget_coefs\u001b[1;34m(img, coefdata)\u001b[0m\n\u001b[0;32m     15\u001b[0m     \u001b[0mimgID\u001b[0m \u001b[1;33m=\u001b[0m \u001b[0mimg\u001b[0m\u001b[1;33m.\u001b[0m\u001b[0mid\u001b[0m\u001b[1;33m(\u001b[0m\u001b[1;33m)\u001b[0m\u001b[1;33m.\u001b[0m\u001b[0mgetInfo\u001b[0m\u001b[1;33m(\u001b[0m\u001b[1;33m)\u001b[0m\u001b[1;33m\u001b[0m\u001b[1;33m\u001b[0m\u001b[0m\n\u001b[0;32m     16\u001b[0m     \u001b[0midx\u001b[0m \u001b[1;33m=\u001b[0m \u001b[0mcoefdata\u001b[0m\u001b[1;33m[\u001b[0m\u001b[1;34m'satellite'\u001b[0m\u001b[1;33m]\u001b[0m\u001b[1;33m+\u001b[0m\u001b[0mcoefdata\u001b[0m\u001b[1;33m[\u001b[0m\u001b[1;34m'year'\u001b[0m\u001b[1;33m]\u001b[0m\u001b[1;33m.\u001b[0m\u001b[0mastype\u001b[0m\u001b[1;33m(\u001b[0m\u001b[0mstr\u001b[0m\u001b[1;33m)\u001b[0m\u001b[1;33m==\u001b[0m\u001b[0mimgID\u001b[0m\u001b[1;33m\u001b[0m\u001b[1;33m\u001b[0m\u001b[0m\n\u001b[1;32m---> 17\u001b[1;33m     \u001b[1;32mreturn\u001b[0m \u001b[0mcoefdata\u001b[0m\u001b[1;33m.\u001b[0m\u001b[0mloc\u001b[0m\u001b[1;33m[\u001b[0m\u001b[0midx\u001b[0m\u001b[1;33m,\u001b[0m \u001b[1;33m[\u001b[0m\u001b[1;34m'c0'\u001b[0m\u001b[1;33m,\u001b[0m\u001b[1;34m'c1'\u001b[0m\u001b[1;33m,\u001b[0m\u001b[1;34m'c2'\u001b[0m\u001b[1;33m]\u001b[0m\u001b[1;33m]\u001b[0m\u001b[1;33m.\u001b[0m\u001b[0mvalues\u001b[0m\u001b[1;33m[\u001b[0m\u001b[1;36m0\u001b[0m\u001b[1;33m]\u001b[0m\u001b[1;33m\u001b[0m\u001b[1;33m\u001b[0m\u001b[0m\n\u001b[0m\u001b[0;32m     18\u001b[0m \u001b[1;33m\u001b[0m\u001b[0m\n\u001b[0;32m     19\u001b[0m \u001b[1;33m\u001b[0m\u001b[0m\n",
      "\u001b[1;31mIndexError\u001b[0m: index 0 is out of bounds for axis 0 with size 0"
     ]
    }
   ],
   "source": [
    "for year in range(2008,2019):\n",
    "    dmsp = get_data(year)\n",
    "    dmsp1996_clbr2 = calibrate_and_clip(dmsp)\n",
    "    geemap.download_ee_image(dmsp1996_clbr2.clip(roi),r'H:\\夜间灯光\\DMSP' + os.sep + str(year) + 'DMSP.tif',region=roi,crs='EPSG:4326',scale=1000)"
   ]
  },
  {
   "cell_type": "code",
   "execution_count": null,
   "id": "58c08bc7",
   "metadata": {},
   "outputs": [],
   "source": [
    "a = 11.7319\n",
    "b = 0.4436\n",
    "def calc(img):\n",
    "    img1 = img.select('avg_rad')\n",
    "    img2 = img1.where(NPP.gt(63),63)\n",
    "    result = img2.where(img.lt(0),0)\n",
    "    result.pow(b)\n",
    "    image = result * a\n",
    "    return image.copyProperties(image, [\"system:time_start\",'system:id'])"
   ]
  },
  {
   "cell_type": "code",
   "execution_count": 10,
   "id": "f5e39b9e",
   "metadata": {},
   "outputs": [
    {
     "data": {
      "application/vnd.jupyter.widget-view+json": {
       "model_id": "6e454fdbf0084180b79a9681a4deef55",
       "version_major": 2,
       "version_minor": 0
      },
      "text/plain": [
       "2013NPP.tif: |                                                         | 0.00/152M (raw) [  0.0%] in 00:00 (et…"
      ]
     },
     "metadata": {},
     "output_type": "display_data"
    },
    {
     "data": {
      "application/vnd.jupyter.widget-view+json": {
       "model_id": "b58dfc4054174df69627033fd690948c",
       "version_major": 2,
       "version_minor": 0
      },
      "text/plain": [
       "2014NPP.tif: |                                                         | 0.00/152M (raw) [  0.0%] in 00:00 (et…"
      ]
     },
     "metadata": {},
     "output_type": "display_data"
    },
    {
     "data": {
      "application/vnd.jupyter.widget-view+json": {
       "model_id": "c334584aa4ba4fec9c4a28ec332365e0",
       "version_major": 2,
       "version_minor": 0
      },
      "text/plain": [
       "2015NPP.tif: |                                                         | 0.00/152M (raw) [  0.0%] in 00:00 (et…"
      ]
     },
     "metadata": {},
     "output_type": "display_data"
    },
    {
     "data": {
      "application/vnd.jupyter.widget-view+json": {
       "model_id": "2b9b6e0c319d4107ac5cda699400eb5a",
       "version_major": 2,
       "version_minor": 0
      },
      "text/plain": [
       "2016NPP.tif: |                                                         | 0.00/152M (raw) [  0.0%] in 00:00 (et…"
      ]
     },
     "metadata": {},
     "output_type": "display_data"
    },
    {
     "data": {
      "application/vnd.jupyter.widget-view+json": {
       "model_id": "fd105b52949b4cc7879161d5ed7dad6b",
       "version_major": 2,
       "version_minor": 0
      },
      "text/plain": [
       "2017NPP.tif: |                                                         | 0.00/152M (raw) [  0.0%] in 00:00 (et…"
      ]
     },
     "metadata": {},
     "output_type": "display_data"
    },
    {
     "data": {
      "application/vnd.jupyter.widget-view+json": {
       "model_id": "d1764d19b6f74494b0d709de425f6822",
       "version_major": 2,
       "version_minor": 0
      },
      "text/plain": [
       "2018NPP.tif: |                                                         | 0.00/152M (raw) [  0.0%] in 00:00 (et…"
      ]
     },
     "metadata": {},
     "output_type": "display_data"
    },
    {
     "data": {
      "application/vnd.jupyter.widget-view+json": {
       "model_id": "352332b4e9d347998416b7086c88fe86",
       "version_major": 2,
       "version_minor": 0
      },
      "text/plain": [
       "2019NPP.tif: |                                                         | 0.00/152M (raw) [  0.0%] in 00:00 (et…"
      ]
     },
     "metadata": {},
     "output_type": "display_data"
    },
    {
     "data": {
      "application/vnd.jupyter.widget-view+json": {
       "model_id": "1c82d1f49e664ea5839f13d96b40daf4",
       "version_major": 2,
       "version_minor": 0
      },
      "text/plain": [
       "2020NPP.tif: |                                                         | 0.00/152M (raw) [  0.0%] in 00:00 (et…"
      ]
     },
     "metadata": {},
     "output_type": "display_data"
    },
    {
     "data": {
      "application/vnd.jupyter.widget-view+json": {
       "model_id": "179570afa8dd492abec551bc0809e12e",
       "version_major": 2,
       "version_minor": 0
      },
      "text/plain": [
       "2021NPP.tif: |                                                         | 0.00/152M (raw) [  0.0%] in 00:00 (et…"
      ]
     },
     "metadata": {},
     "output_type": "display_data"
    },
    {
     "data": {
      "application/vnd.jupyter.widget-view+json": {
       "model_id": "76758fdf30114eb0bbc0c2f0014bf306",
       "version_major": 2,
       "version_minor": 0
      },
      "text/plain": [
       "2022NPP.tif: |                                                         | 0.00/152M (raw) [  0.0%] in 00:00 (et…"
      ]
     },
     "metadata": {},
     "output_type": "display_data"
    }
   ],
   "source": [
    "for year in range(2013,2023):\n",
    "    NPP = ee.ImageCollection(\"NOAA/VIIRS/DNB/MONTHLY_V1/VCMCFG\")\\\n",
    "        .filter(ee.Filter.calendarRange(year,year,'year')) \\\n",
    "        .select('avg_rad')\\\n",
    "        .mean()\n",
    "#         .map(calc)\n",
    "    img = NPP.where(NPP.gt(63),63)\n",
    "    result = img.where(img.lt(0),0)\n",
    "    geemap.download_ee_image(NPP.clip(roi),r'H:\\夜间灯光\\NPP' + os.sep + str(year) + 'NPP.tif',region=roi,crs='EPSG:4326',scale=1000)"
   ]
  },
  {
   "cell_type": "code",
   "execution_count": null,
   "id": "48ab49e4",
   "metadata": {},
   "outputs": [],
   "source": []
  }
 ],
 "metadata": {
  "kernelspec": {
   "display_name": "Python 3 (ipykernel)",
   "language": "python",
   "name": "python3"
  },
  "language_info": {
   "codemirror_mode": {
    "name": "ipython",
    "version": 3
   },
   "file_extension": ".py",
   "mimetype": "text/x-python",
   "name": "python",
   "nbconvert_exporter": "python",
   "pygments_lexer": "ipython3",
   "version": "3.9.13"
  }
 },
 "nbformat": 4,
 "nbformat_minor": 5
}
