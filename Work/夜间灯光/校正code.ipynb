{
 "cells": [
  {
   "cell_type": "code",
   "execution_count": 1,
   "metadata": {},
   "outputs": [
    {
     "data": {
      "text/plain": [
       "True"
      ]
     },
     "execution_count": 1,
     "metadata": {},
     "output_type": "execute_result"
    }
   ],
   "source": [
    "import pandas as pd\n",
    "import numpy as np\n",
    "import geemap \n",
    "import ee \n",
    "import os\n",
    "import math \n",
    "ee.Initialize()\n",
    "ee.Authenticate()"
   ]
  },
  {
   "cell_type": "code",
   "execution_count": 2,
   "metadata": {},
   "outputs": [
    {
     "data": {
      "text/html": [
       "\n",
       "            <style>\n",
       "                .geemap-dark {\n",
       "                    --jp-widgets-color: white;\n",
       "                    --jp-widgets-label-color: white;\n",
       "                    --jp-ui-font-color1: white;\n",
       "                    --jp-layout-color2: #454545;\n",
       "                    background-color: #383838;\n",
       "                }\n",
       "\n",
       "                .geemap-dark .jupyter-button {\n",
       "                    --jp-layout-color3: #383838;\n",
       "                }\n",
       "\n",
       "                .geemap-colab {\n",
       "                    background-color: var(--colab-primary-surface-color, white);\n",
       "                }\n",
       "\n",
       "                .geemap-colab .jupyter-button {\n",
       "                    --jp-layout-color3: var(--colab-primary-surface-color, white);\n",
       "                }\n",
       "            </style>\n",
       "            "
      ],
      "text/plain": [
       "<IPython.core.display.HTML object>"
      ]
     },
     "metadata": {},
     "output_type": "display_data"
    }
   ],
   "source": [
    "\n",
    "Map = geemap.Map()\n",
    "rio = geemap.shp_to_ee(r\"F:\\夜间灯光\\区域\\全国.shp\").geometry()\n",
    "Map.addLayer(rio, {}, 'Boundary')\n",
    "\n"
   ]
  },
  {
   "cell_type": "code",
   "execution_count": 3,
   "metadata": {},
   "outputs": [
    {
     "data": {
      "text/html": [
       "\n",
       "            <style>\n",
       "                .geemap-dark {\n",
       "                    --jp-widgets-color: white;\n",
       "                    --jp-widgets-label-color: white;\n",
       "                    --jp-ui-font-color1: white;\n",
       "                    --jp-layout-color2: #454545;\n",
       "                    background-color: #383838;\n",
       "                }\n",
       "\n",
       "                .geemap-dark .jupyter-button {\n",
       "                    --jp-layout-color3: #383838;\n",
       "                }\n",
       "\n",
       "                .geemap-colab {\n",
       "                    background-color: var(--colab-primary-surface-color, white);\n",
       "                }\n",
       "\n",
       "                .geemap-colab .jupyter-button {\n",
       "                    --jp-layout-color3: var(--colab-primary-surface-color, white);\n",
       "                }\n",
       "            </style>\n",
       "            "
      ],
      "text/plain": [
       "<IPython.core.display.HTML object>"
      ]
     },
     "metadata": {},
     "output_type": "display_data"
    }
   ],
   "source": [
    "#DSMP传感器相互校正 \n",
    "def DSMP(Y):\n",
    "    start = ee.Date.fromYMD(Y, 1, 1)\n",
    "    end = ee.Date.fromYMD(Y,12,31)\n",
    "    dmsp = ee.ImageCollection(\"NOAA/DMSP-OLS/NIGHTTIME_LIGHTS\")\\\n",
    "            .filterBounds(rio) \\\n",
    "            .filterDate(start, end)\n",
    "    id = dmsp.aggregate_array('system:id').getInfo() #会返回一个包含该时间范围内所有影像的 ID 列表\n",
    "    dmspA= ee.Image(id[0]).select('stable_lights') #id[0]对应所给csv数据 \n",
    "    dmspB= ee.Image(id[1]).select('stable_lights')\n",
    "    coef = pd.read_csv(r\"E:\\学习与作业\\夜间灯光\\处理\\表\\合并.csv\")\n",
    "    imgID = dmspA.id().getInfo()\n",
    "    index = coef['wx'] ==imgID \n",
    "    c0,c1,c2,a,b, = coef.loc[index].iloc[0,1:6]\n",
    "    correct = dmspA.expression(\"c0 + (c1 * X) + (c2 * X**2)\",{\n",
    "                'X': dmsp, \n",
    "                'c0': c0,   \n",
    "                'c1': c1,   \n",
    "                'c2': c2   \n",
    "        })\n",
    "    de = correct.where(correct.gt(63),63).where(correct.lt(6),0)\n",
    "    # 饱和校正\n",
    "    if len(id) == 2:\n",
    "        cal_image = de.pow(b).multiply(a)  \n",
    "        # 连续性校正\n",
    "        intra = dmspA.where(dmspA.eq(0).Or(dmspB.eq(0)), 0)\\\n",
    "                        .where(dmspA.neq(0).And(dmspB.neq(0)),dmspA.add(dmspB).divide(2))\n",
    "    elif len(id) ==1:\n",
    "         intra = de \n",
    "    return intra\n",
    "#for year in range(2000,2001):\n",
    "#        H = DSMP(year+1)\n",
    "#        inter = H.where(DSMP(year + 2).eq(0),0)\\\n",
    "#                    .where(DSMP(year + 2).gt(0).And(DSMP(year).gt(DSMP(year))),DSMP(year))\n",
    "        \n",
    "    \n",
    "   \n",
    "#geemap.ee_export_image_to_drive(inter.clip(rio),  description=str(year), fileNamePrefix='校正', folder=\"夜间灯光\", region=rio, scale=1000, crs='epsg:4326',maxPixels=1e12)\n",
    "        \n",
    "\n",
    "#c0,c1,c2是回归模型的参数，分别对应于模型中的截距、一次项系数和二次项系数\n",
    "#DNk = a* DN * DN + b * DN + c \n",
    "#(c2,c1,c0)\n",
    "#1 到 5 之间的像元可能是由于传感器噪声、背景亮度或其他环境因素产生的\n",
    "# 这些值通常不会反映城市灯光等真实信号,所以选择以6为判断节点\n",
    "\n",
    "           \n"
   ]
  },
  {
   "cell_type": "code",
   "execution_count": null,
   "metadata": {},
   "outputs": [],
   "source": [
    "for year in range(2000,2001):\n",
    "        H = DSMP(year+1)\n",
    "        inter = H.where(DSMP(year + 2).eq(0),0)\\\n",
    "                    .where(DSMP(year + 2).gt(0).And(DSMP(year).gt(DSMP(year))),DSMP(year))\n",
    "geemap.ee_export_image_to_drive(inter.clip(rio),  description=str(year), fileNamePrefix='校正', folder=\"夜间灯光\", region=rio, scale=1000, crs='epsg:4326',maxPixels=1e12)\n",
    "    "
   ]
  },
  {
   "cell_type": "markdown",
   "metadata": {},
   "source": [
    "NPP处理"
   ]
  },
  {
   "cell_type": "code",
   "execution_count": 4,
   "metadata": {},
   "outputs": [
    {
     "data": {
      "text/html": [
       "\n",
       "            <style>\n",
       "                .geemap-dark {\n",
       "                    --jp-widgets-color: white;\n",
       "                    --jp-widgets-label-color: white;\n",
       "                    --jp-ui-font-color1: white;\n",
       "                    --jp-layout-color2: #454545;\n",
       "                    background-color: #383838;\n",
       "                }\n",
       "\n",
       "                .geemap-dark .jupyter-button {\n",
       "                    --jp-layout-color3: #383838;\n",
       "                }\n",
       "\n",
       "                .geemap-colab {\n",
       "                    background-color: var(--colab-primary-surface-color, white);\n",
       "                }\n",
       "\n",
       "                .geemap-colab .jupyter-button {\n",
       "                    --jp-layout-color3: var(--colab-primary-surface-color, white);\n",
       "                }\n",
       "            </style>\n",
       "            "
      ],
      "text/plain": [
       "<IPython.core.display.HTML object>"
      ]
     },
     "metadata": {},
     "output_type": "display_data"
    }
   ],
   "source": [
    "def DSMPK(Y):\n",
    "    start = ee.Date.fromYMD(Y, 1, 1)\n",
    "    end = ee.Date.fromYMD(Y,12,31)\n",
    "    dmsp = ee.ImageCollection(\"NOAA/DMSP-OLS/NIGHTTIME_LIGHTS\")\\\n",
    "            .filterBounds(rio) \\\n",
    "            .filterDate(start, end)\\\n",
    "            .select('stable_lights')\n",
    "    id = dmsp.aggregate_array('system:id').getInfo() #会返回一个包含该时间范围内所有影像的 ID 列表\n",
    "    dmspA= ee.Image(id[0]).select('stable_lights') #id[0]对应所给csv数据 \n",
    "    coef = pd.read_csv(r\"E:\\学习与作业\\夜间灯光\\处理\\表\\wx.csv\")\n",
    "    imgID = dmspA.id().getInfo()\n",
    "    index = coef['wx'] ==imgID \n",
    "    a,b, = coef.loc[index].iloc[0,1:3]\n",
    "    de = dmspA.where(dmspA.gt(63),63).where(dmspA.lt(6),0)\n",
    "    if len(id) == 2:\n",
    "        dmspB= ee.Image(id[1]).select('stable_lights')    \n",
    "        # 饱和校正\n",
    "        cal_image = de.pow(b).multiply(a)  \n",
    "        # 连续性校正\n",
    "        intra = cal_image.where(dmspA.eq(0).Or(dmspB.eq(0)), 0)\\\n",
    "                        .where(dmspA.neq(0).And(dmspB.neq(0)),dmspA.add(dmspB).divide(2))\n",
    "    elif len(id) ==1:\n",
    "         intra = de \n",
    "    return intra"
   ]
  },
  {
   "cell_type": "code",
   "execution_count": 9,
   "metadata": {},
   "outputs": [
    {
     "data": {
      "text/html": [
       "\n",
       "            <style>\n",
       "                .geemap-dark {\n",
       "                    --jp-widgets-color: white;\n",
       "                    --jp-widgets-label-color: white;\n",
       "                    --jp-ui-font-color1: white;\n",
       "                    --jp-layout-color2: #454545;\n",
       "                    background-color: #383838;\n",
       "                }\n",
       "\n",
       "                .geemap-dark .jupyter-button {\n",
       "                    --jp-layout-color3: #383838;\n",
       "                }\n",
       "\n",
       "                .geemap-colab {\n",
       "                    background-color: var(--colab-primary-surface-color, white);\n",
       "                }\n",
       "\n",
       "                .geemap-colab .jupyter-button {\n",
       "                    --jp-layout-color3: var(--colab-primary-surface-color, white);\n",
       "                }\n",
       "            </style>\n",
       "            "
      ],
      "text/plain": [
       "<IPython.core.display.HTML object>"
      ]
     },
     "metadata": {},
     "output_type": "display_data"
    }
   ],
   "source": [
    "year = 2013\n",
    "inter_2013 = DSMPK(year)\n",
    "#geemap.ee_export_image_to_drive(inter_2013.clip(rio),  description=str(year), fileNamePrefix='dsmp校正', folder=\"夜间灯光\", region=rio, scale=1000, crs='epsg:4326',maxPixels=1e12)\n",
    "    "
   ]
  },
  {
   "cell_type": "code",
   "execution_count": 5,
   "metadata": {},
   "outputs": [
    {
     "data": {
      "text/html": [
       "\n",
       "            <style>\n",
       "                .geemap-dark {\n",
       "                    --jp-widgets-color: white;\n",
       "                    --jp-widgets-label-color: white;\n",
       "                    --jp-ui-font-color1: white;\n",
       "                    --jp-layout-color2: #454545;\n",
       "                    background-color: #383838;\n",
       "                }\n",
       "\n",
       "                .geemap-dark .jupyter-button {\n",
       "                    --jp-layout-color3: #383838;\n",
       "                }\n",
       "\n",
       "                .geemap-colab {\n",
       "                    background-color: var(--colab-primary-surface-color, white);\n",
       "                }\n",
       "\n",
       "                .geemap-colab .jupyter-button {\n",
       "                    --jp-layout-color3: var(--colab-primary-surface-color, white);\n",
       "                }\n",
       "            </style>\n",
       "            "
      ],
      "text/plain": [
       "<IPython.core.display.HTML object>"
      ]
     },
     "metadata": {},
     "output_type": "display_data"
    }
   ],
   "source": [
    "import os\n",
    "start = ee.Date.fromYMD(2013, 1, 1)\n",
    "end = ee.Date.fromYMD(2013,12,31)\n",
    "dmsp = ee.ImageCollection(\"NOAA/DMSP-OLS/NIGHTTIME_LIGHTS\")\\\n",
    "        .filterBounds(rio) \\\n",
    "        .filterDate(start, end)\\\n",
    "        .mean()\n",
    "de2013k = dmsp.where(dmsp.gt(63),63).where(dmsp.lt(6),0)\n",
    "#去除npp噪声\n",
    "start = ee.Date.fromYMD(2013, 1, 1)\n",
    "end = ee.Date.fromYMD(2013,12,31)\n",
    "npp = ee.ImageCollection(\"NOAA/VIIRS/DNB/MONTHLY_V1/VCMCFG\")\\\n",
    "    .filterBounds(rio) \\\n",
    "    .filterDate(start, end)\\\n",
    "    .select('avg_rad')\\\n",
    "    .mean()\n",
    "K = npp.id().getInfo() \n",
    "npp = npp.where(npp.lt(0),0)   \n",
    "dmsp_mask = de2013k.select(0).gt(0)  # 选择第一个波段,DMSP-OLS 中亮值大于 0 的区域\n",
    "masked = npp.updateMask(dmsp_mask) #通过与 DMSP-OLS 数据对比，将 NPP-VIIRS 数据中所有DN 值为负的像元赋为 0 值\n",
    "num  = masked.where(masked.gt(400), ee.Image(0)) #以 2013 年 DMSP-OLS 数据的亮值区域为掩膜，提取 2013 年的 NPP-VIIRS 图像\n",
    "vule =num.focal_max(radius=1, units='pixels', iterations=5)\n",
    "ed =masked.where(masked.gt(400),vule) \n",
    "zh = ed.where(ed.gt(63),63).where(ed.lt(6),0)\n",
    "#geemap.ee_export_image_to_drive(zh.clip(rio),  description='zh', fileNamePrefix='zhnpp', folder=\"npp夜间灯光\", region=rio, scale=1000, crs='epsg:4326',maxPixels=1e12)\n",
    "\n"
   ]
  },
  {
   "cell_type": "markdown",
   "metadata": {},
   "source": [
    "计算A B "
   ]
  },
  {
   "cell_type": "code",
   "execution_count": 7,
   "metadata": {},
   "outputs": [
    {
     "data": {
      "text/html": [
       "\n",
       "            <style>\n",
       "                .geemap-dark {\n",
       "                    --jp-widgets-color: white;\n",
       "                    --jp-widgets-label-color: white;\n",
       "                    --jp-ui-font-color1: white;\n",
       "                    --jp-layout-color2: #454545;\n",
       "                    background-color: #383838;\n",
       "                }\n",
       "\n",
       "                .geemap-dark .jupyter-button {\n",
       "                    --jp-layout-color3: #383838;\n",
       "                }\n",
       "\n",
       "                .geemap-colab {\n",
       "                    background-color: var(--colab-primary-surface-color, white);\n",
       "                }\n",
       "\n",
       "                .geemap-colab .jupyter-button {\n",
       "                    --jp-layout-color3: var(--colab-primary-surface-color, white);\n",
       "                }\n",
       "            </style>\n",
       "            "
      ],
      "text/plain": [
       "<IPython.core.display.HTML object>"
      ]
     },
     "metadata": {},
     "output_type": "display_data"
    }
   ],
   "source": [
    "#NPP处理\n",
    "A =34.63798 \n",
    "B = 0.16337125\n",
    "for y in range(2013,2016):\n",
    "    start = ee.Date.fromYMD(y, 1, 1)\n",
    "    end = ee.Date.fromYMD(y,12,31)\n",
    "    npp = ee.ImageCollection(\"NOAA/VIIRS/DNB/MONTHLY_V1/VCMCFG\")\\\n",
    "        .filterBounds(rio) \\\n",
    "        .filterDate(start, end)\\\n",
    "        .select('avg_rad')\\\n",
    "        .mean()\n",
    "    #de = npp.where(npp.gt(63),63).where(npp.lt(6),0)\n",
    "    over = npp.pow(B).multiply(A)\n",
    "    geemap.ee_export_image_to_drive(over.clip(rio),  description=str(y), fileNamePrefix=str(y), folder=\"夜间灯光\", region=rio, scale=1000, crs='epsg:4326',maxPixels=1e12)\n",
    "   "
   ]
  },
  {
   "cell_type": "code",
   "execution_count": null,
   "metadata": {},
   "outputs": [
    {
     "data": {
      "text/html": [
       "\n",
       "            <style>\n",
       "                .geemap-dark {\n",
       "                    --jp-widgets-color: white;\n",
       "                    --jp-widgets-label-color: white;\n",
       "                    --jp-ui-font-color1: white;\n",
       "                    --jp-layout-color2: #454545;\n",
       "                    background-color: #383838;\n",
       "                }\n",
       "\n",
       "                .geemap-dark .jupyter-button {\n",
       "                    --jp-layout-color3: #383838;\n",
       "                }\n",
       "\n",
       "                .geemap-colab {\n",
       "                    background-color: var(--colab-primary-surface-color, white);\n",
       "                }\n",
       "\n",
       "                .geemap-colab .jupyter-button {\n",
       "                    --jp-layout-color3: var(--colab-primary-surface-color, white);\n",
       "                }\n",
       "            </style>\n",
       "            "
      ],
      "text/plain": [
       "<IPython.core.display.HTML object>"
      ]
     },
     "metadata": {},
     "output_type": "display_data"
    }
   ],
   "source": []
  },
  {
   "cell_type": "code",
   "execution_count": null,
   "metadata": {},
   "outputs": [],
   "source": []
  },
  {
   "cell_type": "code",
   "execution_count": null,
   "metadata": {},
   "outputs": [],
   "source": [
    "\n"
   ]
  },
  {
   "cell_type": "code",
   "execution_count": null,
   "metadata": {},
   "outputs": [],
   "source": []
  },
  {
   "cell_type": "code",
   "execution_count": null,
   "metadata": {},
   "outputs": [],
   "source": [
    "#NPP处理\n",
    "A =34.63798 \n",
    "B = 0.16337125\n",
    "for y in range(2013,2017):\n",
    "    start = ee.Date.fromYMD(y, 1, 1)\n",
    "    end = ee.Date.fromYMD(y,12,31)\n",
    "    npp = ee.ImageCollection(\"NOAA/VIIRS/DNB/MONTHLY_V1/VCMCFG\")\\\n",
    "        .filterBounds(rio) \\\n",
    "        .filterDate(start, end)\\\n",
    "        .select('avg_rad')\\\n",
    "        .mean()\n",
    "#de = npp.where(npp.gt(63),63).where(npp.lt(6),0)\n",
    "over = npp.pow(B).multiply(A)\n",
    "geemap.ee_export_image_to_drive(over.clip(rio),  description='str(y)', fileNamePrefix='over', folder=\"夜间灯光\", region=rio, scale=1000, crs='epsg:4326',maxPixels=1e12)\n",
    "   \n"
   ]
  },
  {
   "cell_type": "code",
   "execution_count": null,
   "metadata": {},
   "outputs": [],
   "source": []
  },
  {
   "cell_type": "code",
   "execution_count": null,
   "metadata": {},
   "outputs": [],
   "source": []
  },
  {
   "cell_type": "code",
   "execution_count": null,
   "metadata": {},
   "outputs": [],
   "source": []
  },
  {
   "cell_type": "code",
   "execution_count": null,
   "metadata": {},
   "outputs": [],
   "source": []
  },
  {
   "cell_type": "code",
   "execution_count": null,
   "metadata": {},
   "outputs": [],
   "source": []
  },
  {
   "cell_type": "code",
   "execution_count": null,
   "metadata": {},
   "outputs": [],
   "source": [
    "#DSMP饱和校正 \n",
    "def BH(Y):\n",
    "    start = ee.Date.fromYMD(Y, 1, 1)\n",
    "    end = ee.Date.fromYMD(Y,12,31)\n",
    "    dmsp = ee.ImageCollection(\"NOAA/DMSP-OLS/NIGHTTIME_LIGHTS\")\\\n",
    "            .filterBounds(rio) \\\n",
    "            .filterDate(start, end)\\\n",
    "            .select('stable_lights')\n",
    "    id = dmsp.aggregate_array('system:id').getInfo() #会返回一个包含该时间范围内所有影像的 ID 列表\n",
    "    dmspA= ee.Image(id[0]).select('stable_lights') #id[0]对应所给csv数据 \n",
    "    dmspB= ee.Image(id[1]).select('stable_lights')\n",
    "    coef = pd.read_csv(r\"E:\\学习与作业\\夜间灯光\\处理\\表\\wx.csv\")\n",
    "    imgID = dmspA.id().getInfo()\n",
    "    index = coef['wx'] ==imgID \n",
    "    a,b, = coef.loc[index].iloc[0,1:3]\n",
    "    de = dmspA.where(dmspA.gt(63),63).where(dmspA.lt(6),0)\n",
    "    cal = de.pow(b).multiply(a) \n",
    "    return cal"
   ]
  },
  {
   "cell_type": "code",
   "execution_count": 3,
   "metadata": {},
   "outputs": [],
   "source": [
    "import numpy as np\n",
    "import cv2\n",
    "import matplotlib.pyplot as plt\n",
    "from sklearn.linear_model import LinearRegression"
   ]
  },
  {
   "cell_type": "code",
   "execution_count": 7,
   "metadata": {},
   "outputs": [
    {
     "data": {
      "text/html": [
       "\n",
       "            <style>\n",
       "                .geemap-dark {\n",
       "                    --jp-widgets-color: white;\n",
       "                    --jp-widgets-label-color: white;\n",
       "                    --jp-ui-font-color1: white;\n",
       "                    --jp-layout-color2: #454545;\n",
       "                    background-color: #383838;\n",
       "                }\n",
       "\n",
       "                .geemap-dark .jupyter-button {\n",
       "                    --jp-layout-color3: #383838;\n",
       "                }\n",
       "\n",
       "                .geemap-colab {\n",
       "                    background-color: var(--colab-primary-surface-color, white);\n",
       "                }\n",
       "\n",
       "                .geemap-colab .jupyter-button {\n",
       "                    --jp-layout-color3: var(--colab-primary-surface-color, white);\n",
       "                }\n",
       "            </style>\n",
       "            "
      ],
      "text/plain": [
       "<IPython.core.display.HTML object>"
      ]
     },
     "metadata": {},
     "output_type": "display_data"
    }
   ],
   "source": [
    "\n",
    "geemap.ee_export_image_to_drive(zh.clip(rio),  description='zh', fileNamePrefix='zhnpp', folder=\"npp夜间灯光\", region=rio, scale=1000, crs='epsg:4326',maxPixels=1e12)\n",
    "   "
   ]
  },
  {
   "cell_type": "code",
   "execution_count": null,
   "metadata": {},
   "outputs": [],
   "source": [
    "#NPP数据处理\n",
    "#两者进行连续性校正\n",
    "#year = 2012\n",
    "#H = DSMP(year+1)\n",
    "#inter = H.where(DSMP(year + 2).eq(0),0)\\\n",
    "#                    .where(DSMP(year + 2).gt(0).And(DSMP(year).gt(DSMP(year))),DSMP(year))\n",
    "qbh = BH(2013) \n",
    "zh_array = zh.toArray()\n",
    "qbh_array = qbh.toArray()\n",
    "# 将图像展平成一维向量\n",
    "X = zh_array.reshape(-1, 1)\n",
    "Y = qbh_array.reshape(-1, 1)\n",
    "# 对 X 和 Y 进行对数变换\n",
    "log_X = np.log(X)\n",
    "log_Y = np.log(Y)\n",
    "# 使用线性回归模型拟合\n",
    "model = LinearRegression().fit(log_X, log_Y)\n",
    "# 获取回归系数\n",
    "A_log = model.intercept_  #ln(A)\n",
    "B = model.coef_  # 斜率 B\n",
    "A = np.exp(A_log)\n",
    "A,B\n"
   ]
  },
  {
   "cell_type": "code",
   "execution_count": null,
   "metadata": {},
   "outputs": [],
   "source": []
  },
  {
   "cell_type": "code",
   "execution_count": null,
   "metadata": {},
   "outputs": [],
   "source": [
    "\n",
    "\n"
   ]
  },
  {
   "cell_type": "markdown",
   "metadata": {},
   "source": [
    "radius=1 意味着邻域是一个 3x3 像素的方块，包含中心像元及其周围的 8 个像元（即1像素的半径）\n",
    "units='pixels'单位是像素\n",
    "iterations=5,5 次迭代能够确保某些边界的异常值被逐步替换\n",
    "\n",
    "\n",
    "\n",
    "\n",
    "\n",
    "\n"
   ]
  },
  {
   "cell_type": "code",
   "execution_count": null,
   "metadata": {},
   "outputs": [],
   "source": [
    "#去除npp噪声\n",
    "start = ee.Date.fromYMD(2012, 1, 1)\n",
    "end = ee.Date.fromYMD(2012,12,31)\n",
    "npp = ee.ImageCollection(\"NOAA/VIIRS/DNB/MONTHLY_V1/VCMCFG\")\\\n",
    "    .filterBounds(rio) \\\n",
    "    .filterDate(start, end)\\\n",
    "    .select('avg_rad')\\\n",
    "    .mean()\n",
    "K = npp.id().getInfo() \n",
    "npp = npp.where(npp.lt(0),0)   \n",
    "dmsp_mask = de2013k.select(0).gt(0)  # 选择第一个波段,DMSP-OLS 中亮值大于 0 的区域\n",
    "masked = npp.updateMask(dmsp_mask) #通过与 DMSP-OLS 数据对比，将 NPP-VIIRS 数据中所有DN 值为负的像元赋为 0 值\n",
    "num  = masked.where(masked.gt(400), ee.Image(0)) #以 2013 年 DMSP-OLS 数据的亮值区域为掩膜，提取 2013 年的 NPP-VIIRS 图像\n",
    "vule =num.focal_max(radius=1, units='pixels', iterations=5)\n",
    "ed =masked.where(masked.gt(400),vule) \n",
    "zh = masked.where(masked.gt(63),63).where(dmsp.lt(6),0)\n",
    "geemap.ee_export_image_to_drive(zh.clip(rio),  description='npp', fileNamePrefix='npp去除噪声', folder=\"夜间灯光\", region=rio, scale=1000, crs='epsg:4326',maxPixels=1e12)\n",
    "        \n",
    "\n"
   ]
  }
 ],
 "metadata": {
  "kernelspec": {
   "display_name": "gee",
   "language": "python",
   "name": "python3"
  },
  "language_info": {
   "codemirror_mode": {
    "name": "ipython",
    "version": 3
   },
   "file_extension": ".py",
   "mimetype": "text/x-python",
   "name": "python",
   "nbconvert_exporter": "python",
   "pygments_lexer": "ipython3",
   "version": "3.10.14"
  }
 },
 "nbformat": 4,
 "nbformat_minor": 2
}
