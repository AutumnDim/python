{
 "cells": [
  {
   "cell_type": "code",
   "execution_count": null,
   "metadata": {},
   "outputs": [],
   "source": [
    "import ee\n",
    "import geemap\n",
    "ee.Initialize()\n"
   ]
  },
  {
   "cell_type": "code",
   "execution_count": null,
   "metadata": {},
   "outputs": [],
   "source": [
    "Map = geemap.Map()\n",
    "Map.add_basemap('Esri.WorldStreetMap')\n",
    "Map"
   ]
  },
  {
   "cell_type": "code",
   "execution_count": null,
   "metadata": {},
   "outputs": [],
   "source": [
    "# shp转为gee几何对象\n",
    "roi = geemap.shp_to_ee(r\"E:\\数据处理\\区域\\a\\区域面积\\区域面积融合.shp\").geometry()\n",
    "Map.addLayer(roi, {}, 'Boundary')\n",
    "Map.center_object(roi)"
   ]
  },
  {
   "cell_type": "code",
   "execution_count": null,
   "metadata": {},
   "outputs": [],
   "source": [
    "# 裁剪\n",
    "#Map.draw_features\n",
    "#feature = Map.draw_last_feature\n",
    "#loc = feature.geometry()"
   ]
  },
  {
   "cell_type": "code",
   "execution_count": null,
   "metadata": {},
   "outputs": [],
   "source": [
    "# The code has been copied to the clipboard. \n",
    "# Press Ctrl+V to in a code cell to paste it.\n",
    "def maskL8sr(image):\n",
    "    # Bit 0 - Fill\n",
    "    # Bit 1 - Dilated Cloud\n",
    "    # Bit 2 - Cirrus\n",
    "    # Bit 3 - Cloud\n",
    "    # Bit 4 - Cloud Shadow\n",
    "    qaMask = image.select('QA_PIXEL').bitwiseAnd(int('11111', 2)).eq(0)\n",
    "    saturationMask = image.select('QA_RADSAT').eq(0)\n",
    "\n",
    "    # Apply the scaling factors to the appropriate bands.\n",
    "    opticalBands = image.select('SR_B.').multiply(0.0000275).add(-0.2)\n",
    "    thermalBands = image.select('ST_B.*').multiply(0.00341802).add(149.0)\n",
    "\n",
    "    # Replace the original bands with the scaled ones and apply the masks.\n",
    "    return image.addBands(opticalBands, None, True) \\\n",
    "    .addBands(thermalBands, None, True) \\\n",
    "    .updateMask(qaMask) \\\n",
    "    .updateMask(saturationMask)\n",
    "\n",
    "# 去除山体阴影\n",
    "def hillshade(img, elevation):\n",
    "  # 太阳方位角\n",
    "  azimuth = img.getNumber('SUN_AZIMUTH')\n",
    "  # 太阳天顶角=90-太阳仰角\n",
    "  zenith = ee.Number(90).subtract(img.getNumber('SUN_ELEVATION'))\n",
    "  # 计算地形阴影\n",
    "  shaded_relief = ee.Terrain.hillShadow(elevation, azimuth, zenith, 200, True)\n",
    "  return img.updateMask(shaded_relief)"
   ]
  },
  {
   "cell_type": "code",
   "execution_count": null,
   "metadata": {},
   "outputs": [],
   "source": [
    "elevation = ee.Image('CGIAR/SRTM90_V4')"
   ]
  },
  {
   "cell_type": "code",
   "execution_count": null,
   "metadata": {},
   "outputs": [],
   "source": [
    "#计算不同的水体指数\n",
    "def WIs (image, roi):\n",
    "    image = image.clip(roi)\n",
    "    #提取波段\n",
    "    \"\"\" blue = image.select('SR_B2')\n",
    "    green = image.select('SR_B3')\n",
    "    red = image.select('SR_B4')\n",
    "    nir = image.select('SR_B5')\n",
    "    swir1 = image.select('SR_B6')\n",
    "    swir2 = image.select('SR_B7') \"\"\"\n",
    "    #计算水体指数\n",
    "    #归一化水体指数，NDWI =(G-NIR)/(G+NIR)\n",
    "    ndwi=image.normalizedDifference(['SR_B3', 'SR_B5']).rename(\"NDWI\")\n",
    "    #改进的归一化水体指数，MNDWI=(G-SWIR)/(G+SWIR)\n",
    "    mndwi=image.normalizedDifference(['SR_B3', 'SR_B6']).rename(\"mNDWI\")\n",
    "    \n",
    "    awei0 = image.expression('0.0004*(green-swir1) - 0.000025*nir - 0.000275*swir2',\n",
    "        {\n",
    "          'green': image.select('SR_B3'),\n",
    "          'swir1': image.select('SR_B6'),    \n",
    "          'nir': image.select('SR_B5'),    \n",
    "          'swir2': image.select('SR_B7'),\n",
    "        }).rename('awei0')\n",
    "    \n",
    "    awei1 = image.expression('0.0001*blue+0.00025*green-0.00015*(nir+swir1)-0.000025*swir2',\n",
    "                             {\n",
    "                                'blue': image.select('SR_B2'),\n",
    "                                'green': image.select('SR_B3'),\n",
    "                                'nir': image.select('SR_B5'),\n",
    "                                'swir1': image.select('SR_B6'), \n",
    "                                'swir2': image.select('SR_B7'),\n",
    "                             }).rename('awei1')\n",
    "    \n",
    "    wi2015 = image.expression('1.7204 + 0.0171*green+0.0003*red-0.0070*nir-0.0045*swir1-0.0071*swir2',\n",
    "                              {\n",
    "                                'green': image.select('SR_B3'),\n",
    "                                'red': image.select('SR_B4'),\n",
    "                                'nir': image.select('SR_B5'),\n",
    "                                'swir1': image.select('SR_B6'), \n",
    "                                'swir2': image.select('SR_B7'),\n",
    "                              }).rename('wi2015')\n",
    "    wiThrd = [-0.21, 0, -0.07, -0.02, 0.63]\n",
    "    wtWght = [0.000, 0.640, 0.008, 0.019, 0.333]\n",
    "    cdwiThrd = 0.648\n",
    "    wis = [ndwi, mndwi, awei0, awei1, wi2015]\n",
    "    fns = ['ndwi', 'mndwi', 'awei0', 'awei1', 'wi2015']\n",
    "    water_images = []\n",
    "    for i in range(5):\n",
    "        wt = wis[i]\n",
    "        threshold = wiThrd[i]\n",
    "        water = wt.gte(threshold).rename(fns[i] + '_water')\n",
    "        water_images.append(water)\n",
    "    cdwi = (water_images[0].multiply(wtWght[0])\n",
    "            .add(water_images[1].multiply(wtWght[1]))\n",
    "            .add(water_images[2].multiply(wtWght[2]))\n",
    "            .add(water_images[3].multiply(wtWght[3]))\n",
    "            .add(water_images[4].multiply(wtWght[4])))\n",
    "    cdwiWt = cdwi.gte(cdwiThrd).rename('CDWI_water').clip(roi)\n",
    "    return cdwiWt\n",
    "        "
   ]
  },
  {
   "cell_type": "code",
   "execution_count": null,
   "metadata": {},
   "outputs": [],
   "source": [
    "landsat8 = ee.ImageCollection(\"LANDSAT/LC08/C02/T1_L2\") \\\n",
    "            .filterBounds(roi) \\\n",
    "            .filterDate(\"2020-01-01\", \"2020-12-30\")\\\n",
    "            .map(maskL8sr)\\\n",
    "            .map(lambda image: hillshade(image, elevation))\\\n",
    "            .map(lambda image: WIs(image, roi))\\\n",
    "            .mean()"
   ]
  },
  {
   "cell_type": "code",
   "execution_count": null,
   "metadata": {},
   "outputs": [],
   "source": [
    "Jrs.bandNames().getInfo()"
   ]
  },
  {
   "cell_type": "code",
   "execution_count": null,
   "metadata": {},
   "outputs": [],
   "source": [
    "waterThreshold = 0.25\n",
    "waterMask = landsat8.clip(roi).gt(waterThreshold)\n",
    "Map.addLayer(waterMask, {}, 'CDWI Water Mask')\n",
    "Map"
   ]
  },
  {
   "cell_type": "code",
   "execution_count": null,
   "metadata": {},
   "outputs": [],
   "source": [
    "bands = waterMask.select(['CDWI_water']) \n"
   ]
  },
  {
   "cell_type": "code",
   "execution_count": null,
   "metadata": {},
   "outputs": [],
   "source": [
    "waterMask.bandNames().getInfo()"
   ]
  },
  {
   "cell_type": "code",
   "execution_count": null,
   "metadata": {},
   "outputs": [],
   "source": [
    "Jrs = ee.ImageCollection(\"JRC/GSW1_4/YearlyHistory\") \\\n",
    "            .filterBounds(roi) \\\n",
    "            .filterDate(\"2020-01-01\", \"2020-12-31\")\\\n",
    "            .median()\n",
    "visualization = {\n",
    "  'bands': ['waterClass'],\n",
    "  'min': 0.0,\n",
    "  'max': 3.0,\n",
    "  'palette': ['cccccc', 'ffffff', '99d9ea', '0000ff']\n",
    "}\n",
    "Map.addLayer(Jrs.clip(roi), visualization, 'Jrs')\n",
    "Map\n"
   ]
  },
  {
   "cell_type": "code",
   "execution_count": null,
   "metadata": {},
   "outputs": [],
   "source": [
    "jrcMask = Jrs.eq(1)\n",
    "correctedData = waterMask.where(jrcMask, 0)\n",
    "type(correctedData)\n",
    "Map.addLayer(correctedData,{},'correctedData')\n",
    "#Map.addLayer(jrcMask,{},'jrcMask')\n",
    "Map"
   ]
  },
  {
   "cell_type": "code",
   "execution_count": null,
   "metadata": {},
   "outputs": [],
   "source": [
    "geemap.download_ee_image(correctedData, r\"E:\\湿地.tif\", region=roi, crs='epsg:4326', scale=30)"
   ]
  },
  {
   "cell_type": "code",
   "execution_count": null,
   "metadata": {},
   "outputs": [],
   "source": [
    "geemap.ee_export_image_to_drive(correctedData,  description=\"landsat\", fileNamePrefix='湿地', folder=\"湿地\", region=roi, scale=30, crs='epsg:4326', maxPixels=1e11)"
   ]
  },
  {
   "cell_type": "code",
   "execution_count": null,
   "metadata": {},
   "outputs": [],
   "source": [
    "# 重采样\n",
    "resampled = correctedData.reproject(crs=correctedData.projection().crs(), scale=1000) \\\n",
    "                        .reduceResolution(reducer=ee.Reducer.mean(), bestEffort=True)\n",
    "#reprojected = correctedData.resample('bicubic')\n",
    "Map.addLayer(resampled,{},'resampled')\n",
    "Map\n"
   ]
  },
  {
   "cell_type": "code",
   "execution_count": null,
   "metadata": {},
   "outputs": [],
   "source": []
  }
 ],
 "metadata": {
  "kernelspec": {
   "display_name": "gee",
   "language": "python",
   "name": "python3"
  },
  "language_info": {
   "codemirror_mode": {
    "name": "ipython",
    "version": 3
   },
   "file_extension": ".py",
   "mimetype": "text/x-python",
   "name": "python",
   "nbconvert_exporter": "python",
   "pygments_lexer": "ipython3",
   "version": "3.10.14"
  }
 },
 "nbformat": 4,
 "nbformat_minor": 2
}
