{
 "cells": [
  {
   "cell_type": "markdown",
   "id": "a1cdfbf2",
   "metadata": {
    "cell_style": "center"
   },
   "source": [
    "# Table of Contents\n",
    "1  Initialize and create an interactive map\n",
    "2  Add basemaps\n",
    "3  Add WMS and XYZ tile layers\n",
    "4  Search and add Earth Engine data to layer\n",
    "5  Search Earth Engine API documentation\n",
    "6  Use Inspector tool and Drawing tools\n",
    "7  Convert JavaScripts to Python\n",
    "8  Use and upload local shapefiles\n",
    "9  Download a image from google earth engine"
   ]
  },
  {
   "cell_type": "code",
   "execution_count": 1,
   "id": "0f88104e",
   "metadata": {},
   "outputs": [
    {
     "data": {
      "application/vnd.jupyter.widget-view+json": {
       "model_id": "42ae423a89b04c15bda27b8ad8a738ae",
       "version_major": 2,
       "version_minor": 0
      },
      "text/plain": [
       "Map(center=[39, 110], controls=(WidgetControl(options=['position', 'transparent_bg'], widget=HBox(children=(To…"
      ]
     },
     "execution_count": 1,
     "metadata": {},
     "output_type": "execute_result"
    }
   ],
   "source": [
    "# -------------------------------------------------------\n",
    "# 1 import ee and Initialize the map\n",
    "# -------------------------------------------------------\n",
    "import ee, geemap\n",
    "\n",
    "# ee.Initialize()\n",
    "Map = geemap.Map()\n",
    "Map = geemap.Map(center=(39, 110), zoom=4)\n",
    "Map\n"
   ]
  },
  {
   "cell_type": "code",
   "execution_count": null,
   "id": "e0890a3c",
   "metadata": {},
   "outputs": [],
   "source": [
    "# -------------------------------------------------------\n",
    "# 2 Add basemaps and split Map\n",
    "# -------------------------------------------------------\n",
    "# geemap.Map()\n",
    "Map.add_basemap('HYBRID')"
   ]
  },
  {
   "cell_type": "code",
   "execution_count": null,
   "id": "9a7acdbe",
   "metadata": {},
   "outputs": [],
   "source": [
    "# -------------------------------------------------------\n",
    "# 2 Add basemaps and split Map\n",
    "# -------------------------------------------------------\n",
    "# Map.split_map(left_layer='SATELLITE', right_layer='Esri.WorldImagery')\n",
    "# Map\n",
    "# Map.setCenter(29.68, 116.015,zoom=8)\n",
    "Map.split_map(\n",
    "    left_layer='NLCD 2016 CONUS Land Cover', right_layer='NLCD 2001 CONUS Land Cover'\n",
    ")\n",
    "Map"
   ]
  },
  {
   "cell_type": "code",
   "execution_count": null,
   "id": "0e19a33a-da57-4b19-87e5-179e2198de44",
   "metadata": {},
   "outputs": [],
   "source": [
    "Map = geemap.Map()"
   ]
  },
  {
   "cell_type": "code",
   "execution_count": null,
   "id": "dca541ea",
   "metadata": {},
   "outputs": [],
   "source": [
    "# -------------------------------------------------------\n",
    "# 3  Add WMS and XYZ tile layers\n",
    "# -------------------------------------------------------\n",
    "# del Map\n",
    "# Map = geemap.Map()\n",
    "url = 'https://mt1.google.com/vt/lyrs=y&x={x}&y={y}&z={z}'\n",
    "Map.add_tile_layer(url, name='Google Satellite', attribution='Google')\n",
    "Map"
   ]
  },
  {
   "cell_type": "code",
   "execution_count": 4,
   "id": "12c1ca55",
   "metadata": {},
   "outputs": [],
   "source": [
    "# -------------------------------------------------------\n",
    "# 4  Search and add Earth Engine data to layer\n",
    "# -------------------------------------------------------\n",
    "\n",
    "# https://developers.google.com/earth-engine/datasets/catalog\n",
    "\n",
    "image = ee.Image('LANDSAT/LC08/C01/T1_TOA/LC08_044034_20140318').select('B3', 'B4', 'B5')\n",
    "vizParams = {\n",
    "  'bands': ['B5', 'B4', 'B3'],\n",
    "  'min': 0,\n",
    "  'max': 0.5,\n",
    "  'gamma': [0.95, 1.1, 1]\n",
    "}\n",
    "Map.setCenter(-122.1899, 37.5010, 8)      # 按地图视图按经纬度坐标来\n",
    "Map.addLayer(image, vizParams, 'false color composite')\n",
    "# bands参数需要一个有且只含三个元素的列表，列表里每一个参数为影像的一个波段的名称\n",
    "# 用这三个波段来映射到RGB的红绿蓝三种颜色中\n",
    "# min,max设置显示波段值的颜色范围\n",
    "# gamma，即用于gamma矫正的一些参数，以矫正图像"
   ]
  },
  {
   "cell_type": "code",
   "execution_count": null,
   "id": "31f14435",
   "metadata": {},
   "outputs": [],
   "source": [
    "# -------------------------------------------------------\n",
    "# 5  Search Earth Engine API documentation\n",
    "# -------------------------------------------------------\n",
    "#     https://developers.google.com/earth-engine/guides\n",
    "#     https://code.earthengine.google.com/?accept_repo=users/nclinton/EE101\n",
    "# -------------------------------------------------------\n",
    "# 6  Use Inspector tool and Drawing tools\n",
    "# -------------------------------------------------------\n",
    "Map.draw_features\n",
    "# Map.draw_last_feature\n",
    "feature = Map.draw_last_feature\n",
    "# roi = feature\n",
    "roi = feature.geometry()"
   ]
  },
  {
   "cell_type": "code",
   "execution_count": null,
   "id": "9f9735c2",
   "metadata": {
    "tags": []
   },
   "outputs": [],
   "source": [
    "# 6  Use Inspector tool and Drawing tools -> example\n",
    "# image = ee.ImageCollection(\"LANDSAT/LC09/C02/T1_L2\").filterBounds(roi).sort('CLOUD_COVER').first()\n",
    "image = ee.ImageCollection(\"LANDSAT/LC08/C01/T1\").filterBounds(roi).sort('CLOUD_COVER').first()\n",
    "vizParams = {\n",
    "  'bands': ['B5', 'B4', 'B3'],\n",
    "  'min': 0.0,\n",
    "  'max': 30000.0\n",
    "}\n",
    "Map.addLayer(image.clip(roi),vizParams, 'landsat8')\n",
    "# Map.addLayer(image,{'bands':['SR_B5','SR_B4','SR_B3']}, 'landsat9')"
   ]
  },
  {
   "cell_type": "code",
   "execution_count": null,
   "id": "3e4be76b",
   "metadata": {},
   "outputs": [],
   "source": [
    "# -------------------------------------\n",
    "# 7  Convert JavaScripts to Python\n",
    "# -------------------------------------\n",
    "\n",
    "js_snippet = \"\"\"\n",
    "var dataset = ee.ImageCollection('MODIS/006/MCD12Q1');\n",
    "var igbpLandCover = dataset.select('LC_Type1');\n",
    "var igbpLandCoverVis = {\n",
    "  min: 1.0,\n",
    "  max: 17.0,\n",
    "  palette: [\n",
    "    '05450a', '086a10', '54a708', '78d203', '009900', 'c6b044', 'dcd159',\n",
    "    'dade48', 'fbff13', 'b6ff05', '27ff87', 'c24f44', 'a5a5a5', 'ff6d4c',\n",
    "    '69fff8', 'f9ffa4', '1c0dff'\n",
    "  ],\n",
    "};\n",
    "Map.setCenter(6.746, 46.529, 6);\n",
    "Map.addLayer(igbpLandCover, igbpLandCoverVis, 'IGBP Land Cover');\n",
    "\"\"\"\n",
    "geemap.js_snippet_to_py(js_snippet, add_new_cell=True, import_ee=False, import_geemap=False, show_map=False)"
   ]
  },
  {
   "cell_type": "code",
   "execution_count": null,
   "id": "abf2af3c",
   "metadata": {},
   "outputs": [],
   "source": [
    "import geemap\n",
    "\n",
    "Map = geemap.Map()\n",
    "\n",
    "dataset = ee.ImageCollection('MODIS/006/MCD12Q1')\n",
    "igbpLandCover = dataset.select('LC_Type1')\n",
    "igbpLandCoverVis = {\n",
    "  'min': 1.0,\n",
    "  'max': 17.0,\n",
    "  'palette': [\n",
    "    '05450a', '086a10', '54a708', '78d203', '009900', 'c6b044', 'dcd159',\n",
    "    'dade48', 'fbff13', 'b6ff05', '27ff87', 'c24f44', 'a5a5a5', 'ff6d4c',\n",
    "    '69fff8', 'f9ffa4', '1c0dff'\n",
    "  ],\n",
    "}\n",
    "Map.setCenter(6.746, 46.529, 6)\n",
    "Map.addLayer(igbpLandCover.first().clip(roi), igbpLandCoverVis, 'IGBP Land Cover')\n",
    "Map"
   ]
  },
  {
   "cell_type": "code",
   "execution_count": null,
   "id": "877b02eb",
   "metadata": {},
   "outputs": [],
   "source": [
    "# --------------------------------------------\n",
    "# 8  Use and upload local shapefiles\n",
    "# --------------------------------------------\n",
    "\n",
    "# local shape file \n",
    "f_shp = r'D:\\08.专业数据\\A1_database\\A2_images\\00.基础地理数据\\stations_2k_dd\\stations_2k_gcs.shp' #添加面shp（文件名不能有“_”和中文）\n",
    "\n",
    "# convert local shape file to ee.feature\n",
    "shp_ee = geemap.shp_to_ee(f_shp)\n",
    "\n",
    "# add ee.feature to the map\n",
    "# Map.addLayer(eeObject, visParams, name, shown, opacity)\n",
    "Map.addLayer(shp_ee, {}, 'Climate stations')"
   ]
  },
  {
   "cell_type": "code",
   "execution_count": 2,
   "id": "f910686e-a81c-4609-94cb-01874106ca5e",
   "metadata": {
    "scrolled": true,
    "tags": []
   },
   "outputs": [],
   "source": [
    "# --------------------------------------------\n",
    "# 9  Download a image from google earth engine\n",
    "# Total request size must be less than or equal to 50331648 bytes\n",
    "# --------------------------------------------\n",
    "import os\n",
    "image = ee.Image('LANDSAT/LC08/C01/T1_TOA/LC08_044034_20140318').select('B3', 'B4', 'B5')\n",
    "fidx = image.get('system:index').getInfo()"
   ]
  },
  {
   "cell_type": "code",
   "execution_count": 3,
   "id": "f117d7b5-4887-433b-b22c-37f3cd61bd04",
   "metadata": {
    "scrolled": true,
    "tags": []
   },
   "outputs": [
    {
     "data": {
      "application/vnd.jupyter.widget-view+json": {
       "model_id": "322cae18cdcb41a3be4786c619de112d",
       "version_major": 2,
       "version_minor": 0
      },
      "text/plain": [
       "LC08_044034_20140318d.tif: |                                                                                  …"
      ]
     },
     "metadata": {},
     "output_type": "display_data"
    }
   ],
   "source": [
    "f_img = r'D:\\03.Temporary' + os.sep + fidx + 'd.tif'\n",
    "# geemap.ee_export_image(image, filename=f_img, scale=100,file_per_band=True)\n",
    "geemap.download_ee_image(image, f_img, scale=30,  crs='epsg:4326')\n",
    "# geemap.ee_export_image_to_drive(image, description='landsat8', folder='export', scale=30)"
   ]
  },
  {
   "cell_type": "code",
   "execution_count": null,
   "id": "16c61a89",
   "metadata": {},
   "outputs": [],
   "source": [
    "# --------------------------------------------\n",
    "# 9  Download a image from google earth engine to google drive\n",
    "# \n",
    "# --------------------------------------------\n",
    "geemap.ee_export_image_to_drive(image, description=fidx, folder='ee_export', scale=30)"
   ]
  }
 ],
 "metadata": {
  "kernelspec": {
   "display_name": "Python 3 (ipykernel)",
   "language": "python",
   "name": "python3"
  },
  "language_info": {
   "codemirror_mode": {
    "name": "ipython",
    "version": 3
   },
   "file_extension": ".py",
   "mimetype": "text/x-python",
   "name": "python",
   "nbconvert_exporter": "python",
   "pygments_lexer": "ipython3",
   "version": "3.9.16"
  },
  "varInspector": {
   "cols": {
    "lenName": 16,
    "lenType": 16,
    "lenVar": 40
   },
   "kernels_config": {
    "python": {
     "delete_cmd_postfix": "",
     "delete_cmd_prefix": "del ",
     "library": "var_list.py",
     "varRefreshCmd": "print(var_dic_list())"
    },
    "r": {
     "delete_cmd_postfix": ") ",
     "delete_cmd_prefix": "rm(",
     "library": "var_list.r",
     "varRefreshCmd": "cat(var_dic_list()) "
    }
   },
   "position": {
    "height": "281.844px",
    "left": "1550px",
    "right": "20px",
    "top": "120px",
    "width": "350px"
   },
   "types_to_exclude": [
    "module",
    "function",
    "builtin_function_or_method",
    "instance",
    "_Feature"
   ],
   "window_display": true
  }
 },
 "nbformat": 4,
 "nbformat_minor": 5
}
