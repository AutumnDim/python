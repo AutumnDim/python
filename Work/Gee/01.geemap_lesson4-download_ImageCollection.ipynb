{
 "cells": [
  {
   "cell_type": "markdown",
   "id": "1f4e6ed8",
   "metadata": {
    "tags": []
   },
   "source": [
    "# Table of Contents\n",
    "  Example 2. Download huge ImageCollection from google earth engine; -> Download Images or ImageCollection\n",
    "  Example 3. Extract NDVI values of climate stations from 1982 to 2021; -> Spatial analysis\n",
    "  Example 4. Supervised Classification -> Images Classification\n",
    "  Example 5. Unsupervised Classification (clustering) "
   ]
  },
  {
   "cell_type": "code",
   "execution_count": 1,
   "id": "a6692d8e",
   "metadata": {},
   "outputs": [
    {
     "data": {
      "application/vnd.jupyter.widget-view+json": {
       "model_id": "1d4ac243e95545848daab038c8f97040",
       "version_major": 2,
       "version_minor": 0
      },
      "text/plain": [
       "Map(center=[39, 110], controls=(WidgetControl(options=['position', 'transparent_bg'], widget=HBox(children=(To…"
      ]
     },
     "metadata": {},
     "output_type": "display_data"
    }
   ],
   "source": [
    "import ee, os\n",
    "import geemap\n",
    "# ee.Initialize()\n",
    "Map = geemap.Map()\n",
    "Map = geemap.Map(center=(39, 110), zoom=4)\n",
    "Map"
   ]
  },
  {
   "cell_type": "raw",
   "id": "cb8ba329",
   "metadata": {},
   "source": [
    "# -------------------------------------------------------\n",
    "# 1  ImageCollection 概述\n",
    "# https://github.com/monarch-beluga/Study-notes/tree/master/python/jupyter/geemap/ImageCollection\n",
    "# -------------------------------------------------------\n",
    "\tGamma Correction\n",
    "https://learnopengl-cn.github.io/05%20Advanced%20Lighting/02%20Gamma%20Correction/\n",
    "# -------------------------------------------------------\n"
   ]
  },
  {
   "cell_type": "code",
   "execution_count": 63,
   "id": "37cae645",
   "metadata": {},
   "outputs": [],
   "source": [
    "# -------------------------------------------------------\n",
    "# 2  ImageCollection 去云\n",
    "#  Calculate NDVI for Jiangxi\n",
    "# -------------------------------------------------------\n",
    "year = 2021, 2021\n",
    "doy = '-01-01', '-12-30'\n",
    "\n",
    "start_date = str(year[0]) + doy[0]\n",
    "end_date = str(year[1]) + doy[1]\n",
    "\n",
    "jx_bound = ee.FeatureCollection('users/yehuigeo/jx_bound')\n",
    "roi = jx_bound.geometry()"
   ]
  },
  {
   "cell_type": "code",
   "execution_count": 3,
   "id": "9427a146",
   "metadata": {
    "cell_style": "center"
   },
   "outputs": [],
   "source": [
    "def cloudMaskL457(image):\n",
    "    qa = image.select('pixel_qa')\n",
    "  # If the cloud bit (5) is set and the cloud confidence (7) is high\n",
    "  # or the cloud shadow bit is set (3), then it's a bad pixel.\n",
    "    cloud = qa.bitwiseAnd(1 << 5) \\\n",
    "                  .And(qa.bitwiseAnd(1 << 7)) \\\n",
    "                  .Or(qa.bitwiseAnd(1 << 3))\n",
    "  # Remove edge pixels that don't occur in all bands\n",
    "    mask2 = image.mask().reduce(ee.Reducer.min())\n",
    "    return image.updateMask(cloud.Not()).updateMask(mask2).divide(10000).copyProperties(image, [\"system:time_start\",'system:id'])\n",
    "\n",
    "def maskS2clouds(image):   # This function was used to mask the clouds for sentinel-2\n",
    "    qa = image.select('QA60')\n",
    "\n",
    "  # Bits 10 and 11 are clouds and cirrus, respectively.\n",
    "    cloudBitMask = 1 << 10\n",
    "    cirrusBitMask = 1 << 11\n",
    "\n",
    "  # Both flags should be set to zero, indicating clear conditions.\n",
    "    mask = qa.bitwiseAnd(cloudBitMask).eq(0).And(\n",
    "             qa.bitwiseAnd(cirrusBitMask).eq(0))\n",
    "\n",
    "  # Return the masked and scaled data, without the QA bands.\n",
    "    return image.updateMask(mask).divide(10000).select(\"B.*\").copyProperties(image, [\"system:time_start\",'system:id'])\n",
    "\n",
    "def maskL8sr(image):\n",
    "  # Bits 3 and 5 are cloud shadow and cloud, respectively.\n",
    "    cloudShadowBitMask = (1 << 3)\n",
    "    cloudsBitMask = (1 << 5)\n",
    "    # Get the pixel QA band.\n",
    "    qa = image.select('pixel_qa')\n",
    "    # Both flags should be set to zero, indicating clear conditions.\n",
    "    mask = qa.bitwiseAnd(cloudShadowBitMask).eq(0) \\\n",
    "                 .And(qa.bitwiseAnd(cloudsBitMask).eq(0)).divide(10000)\n",
    "    return image.updateMask(mask).copyProperties(image, [\"system:time_start\",'system:id'])"
   ]
  },
  {
   "cell_type": "code",
   "execution_count": 65,
   "id": "3fcf535c",
   "metadata": {},
   "outputs": [
    {
     "data": {
      "text/plain": [
       "96"
      ]
     },
     "execution_count": 65,
     "metadata": {},
     "output_type": "execute_result"
    }
   ],
   "source": [
    "collection8 = ee.ImageCollection('LANDSAT/LC08/C01/T1_SR')\\\n",
    "    .filterBounds(jx_bound) \\\n",
    "    .filterDate(start_date, end_date).filter(ee.Filter.lt('CLOUD_COVER',20)) \\\n",
    "    .map(maskL8sr).select(['B2', 'B3', 'B4', 'B5', 'B6', 'B7', 'pixel_qa'],['B1', 'B2', 'B3', 'B4', 'B5', 'B7', 'pixel_qa']) \n",
    "collection8.size().getInfo()"
   ]
  },
  {
   "cell_type": "code",
   "execution_count": 66,
   "id": "cc6eef23",
   "metadata": {
    "scrolled": true
   },
   "outputs": [],
   "source": [
    "# col8 = collection8\n",
    "col8_ids = collection8.aggregate_array('system:id').getInfo()\n",
    "# print(col8_ids)"
   ]
  },
  {
   "cell_type": "code",
   "execution_count": 67,
   "id": "1b3739da",
   "metadata": {},
   "outputs": [],
   "source": [
    "f_dir = r'C:\\Users\\YeHui\\Downloads'\n",
    "def dow(i):  # 用地图id做循环\n",
    "    Layer = ee.Image(i).select(['B3', 'B2', 'B1']) # 使用地图，select为确定地图波段，可以去除，则为全波段\n",
    "    # 保存文件名为地图id加文件格式\n",
    "    a = i.split('/')[2:]\n",
    "    b = '_'.join(a)\n",
    "    f_img = f_dir + os.sep + b + '.tif'\n",
    "    # 导出栅格影像，file_per_band为是否按波段分别导出\n",
    "    geemap.ee_export_image(Layer, filename=f_img, scale=500, region=roi,file_per_band=False)\n",
    "#     ee_export(region=roi, image=Layer.clip(roi), outfile=f_img, scale=1000, sep=0.25, num_workers=8)"
   ]
  },
  {
   "cell_type": "code",
   "execution_count": null,
   "id": "6b63b1f1",
   "metadata": {},
   "outputs": [],
   "source": [
    "from concurrent.futures.thread import ThreadPoolExecutor\n",
    "\n",
    "with ThreadPoolExecutor(max_workers=8) as executor:\n",
    "    executor.map(dow, col8_ids)"
   ]
  },
  {
   "cell_type": "code",
   "execution_count": 11,
   "id": "ad657ef0",
   "metadata": {},
   "outputs": [],
   "source": [
    "sl2 = sentinel2.select(['mNDWI']).toBands()\n",
    "# merged = sl2.iterate(merge_bd, sl2.first())"
   ]
  },
  {
   "cell_type": "code",
   "execution_count": null,
   "id": "d3eb5b60",
   "metadata": {},
   "outputs": [],
   "source": [
    "from GEE import ee_export\n",
    "f_img = r\"C:\\Users\\YeHui\\Downloads\\sl2_mNDWI\"\n",
    "roi = jx_bound.geometry()\n",
    "ee_export(region=roi, image=sl2, outfile=f_img, scale=10, sep=0.25, num_workers=8)"
   ]
  },
  {
   "cell_type": "code",
   "execution_count": 18,
   "id": "e32e2127",
   "metadata": {},
   "outputs": [
    {
     "name": "stdout",
     "output_type": "stream",
     "text": [
      "None\n"
     ]
    }
   ],
   "source": [
    "image = sentinel2.select('mNDWI').median()\n",
    "Msize = image.get('system:asset_size').getInfo()\n",
    "print(Msize)"
   ]
  },
  {
   "cell_type": "code",
   "execution_count": 36,
   "id": "adf5a485",
   "metadata": {},
   "outputs": [
    {
     "name": "stdout",
     "output_type": "stream",
     "text": [
      "['COPERNICUS/S2_SR/20210605T024549_20210605T025350_T49RHJ', 'COPERNICUS/S2_SR/20210605T024549_20210605T025350_T50RKP', 'COPERNICUS/S2_SR/20210605T024549_20210605T025350_T50RLR', 'COPERNICUS/S2_SR/20210605T024549_20210605T025350_T50RLS', 'COPERNICUS/S2_SR/20210605T024549_20210605T025350_T50RLT', 'COPERNICUS/S2_SR/20210605T024549_20210605T025350_T50RMR', 'COPERNICUS/S2_SR/20210605T024549_20210605T025350_T50RMS', 'COPERNICUS/S2_SR/20210605T024549_20210605T025350_T50RMT', 'COPERNICUS/S2_SR/20210605T024549_20210605T025350_T50RMU', 'COPERNICUS/S2_SR/20210605T024549_20210605T025350_T50RNS', 'COPERNICUS/S2_SR/20210605T024549_20210605T025350_T50RNT', 'COPERNICUS/S2_SR/20210605T024549_20210605T025350_T50RNU', 'COPERNICUS/S2_SR/20210605T024549_20210605T025350_T50RPS', 'COPERNICUS/S2_SR/20210605T024549_20210605T025350_T50RPT', 'COPERNICUS/S2_SR/20210608T025549_20210608T030747_T50RLU', 'COPERNICUS/S2_SR/20210608T025549_20210608T031000_T49RGL', 'COPERNICUS/S2_SR/20210608T025549_20210608T031000_T50RKQ', 'COPERNICUS/S2_SR/20210613T025551_20210613T030736_T49RGN', 'COPERNICUS/S2_SR/20210613T025551_20210613T030949_T49RGL', 'COPERNICUS/S2_SR/20210613T025551_20210613T030949_T49RGN', 'COPERNICUS/S2_SR/20210623T025551_20210623T030736_T50RLU', 'COPERNICUS/S2_SR/20210623T025551_20210623T030736_T50RMU']\n"
     ]
    }
   ],
   "source": [
    "name = sentinel2.select('mNDWI').aggregate_array('system:id').getInfo()\n",
    "print(name)"
   ]
  },
  {
   "cell_type": "code",
   "execution_count": null,
   "id": "a7ffaf93",
   "metadata": {},
   "outputs": [],
   "source": [
    "dow_img_dir = r'C:\\Users\\YeHui\\Downloads'\n",
    "from tolocal import ee_export\n",
    "roi = jx_bound.geometry()\n",
    "def dow(i):  # 用地图id做循环\n",
    "    Layer = ee.Image(i).select(['B4', 'B3', 'B2']) # 使用地图，select为确定地图波段，可以去除，则为全波段\n",
    "    # 保存文件名为地图id加文件格式\n",
    "    a = i.split('/')\n",
    "    str = '-'\n",
    "    b = str.join(a)\n",
    "    file = dow_img_dir + os.sep + b\n",
    "    # 导出栅格影像，file_per_band为是否按波段分别导出\n",
    "#     ee_export(region=roi, image=Layer.clip(roi), outfile=file, scale=10, sep=0.1, num_workers=4)\n",
    "    geemap.ee_export_image(Layer, filename=file, scale=500, region=roi,file_per_band=True)"
   ]
  },
  {
   "cell_type": "code",
   "execution_count": null,
   "id": "fe6a2191",
   "metadata": {},
   "outputs": [],
   "source": [
    "from concurrent.futures.thread import ThreadPoolExecutor\n",
    "\n",
    "with ThreadPoolExecutor(max_workers=8) as executor:\n",
    "    executor.map(dow, names_id)"
   ]
  },
  {
   "cell_type": "code",
   "execution_count": null,
   "id": "c4ec2268",
   "metadata": {},
   "outputs": [],
   "source": [
    "roi = jx_bound.geometry()\n",
    "Layer = ee.Image('COPERNICUS/S2_SR/20210601T000729_20210601T000731')"
   ]
  },
  {
   "cell_type": "code",
   "execution_count": null,
   "id": "95537620",
   "metadata": {
    "scrolled": true
   },
   "outputs": [],
   "source": [
    "for i in names_id:\n",
    "    i = r\"COPERNICUS/S2_SR/20210605T024549_20210605T025350_T49RHJ\"\n",
    "    Layer = ee.Image(i).select(['B4', 'B3', 'B2']) # 使用地图，select为确定地图波段，可以去除，则为全波段\n",
    "    # 保存文件名为地图id加文件格式\n",
    "    a = i.split('/')\n",
    "    str = '-'\n",
    "    b = str.join(a)\n",
    "    file = dow_img_dir + os.sep + b\n",
    "    ee_export(region=roi, image=Layer.clip(roi), outfile=file, scale=10, sep=0.1, num_workers=4)"
   ]
  },
  {
   "cell_type": "code",
   "execution_count": null,
   "id": "1fdda17d",
   "metadata": {},
   "outputs": [],
   "source": [
    "from tolocal import ee_export\n",
    "ee_export(region=roi, image=Layer.clip(roi), outfile=file, scale=10, sep=0.1, num_workers=4)"
   ]
  },
  {
   "cell_type": "code",
   "execution_count": null,
   "id": "a922882a",
   "metadata": {},
   "outputs": [],
   "source": [
    "img = sentinel2.select(['B4', 'B3', 'B2']).median().clip(roi)\n",
    "print(img.propertyNames().getInfo())"
   ]
  },
  {
   "cell_type": "code",
   "execution_count": null,
   "id": "2e372ddf",
   "metadata": {},
   "outputs": [],
   "source": [
    "Map.addLayer(sentinel2.select(['B4', 'B3', 'B2']).median().clip(roi),{'bands': ['B4', 'B3', 'B2'], 'min': 0, 'max': 0.3},\"Layer\")"
   ]
  },
  {
   "cell_type": "code",
   "execution_count": null,
   "id": "7d5387ca",
   "metadata": {},
   "outputs": [],
   "source": [
    "a = sl1.toList(100).getInfo()"
   ]
  },
  {
   "cell_type": "code",
   "execution_count": null,
   "id": "a22eddd2",
   "metadata": {},
   "outputs": [],
   "source": [
    "a = ee.ImageCollection(\"COPERNICUS/S2_SR\").select('mNDWI').filterDate(start_date, end_date).filterBounds(roi)"
   ]
  },
  {
   "cell_type": "code",
   "execution_count": null,
   "id": "7c99bc58",
   "metadata": {},
   "outputs": [],
   "source": [
    "a.size().getInfo()"
   ]
  },
  {
   "cell_type": "code",
   "execution_count": null,
   "id": "0410ef8f",
   "metadata": {},
   "outputs": [],
   "source": []
  }
 ],
 "metadata": {
  "kernelspec": {
   "display_name": "Python 3 (ipykernel)",
   "language": "python",
   "name": "python3"
  },
  "language_info": {
   "codemirror_mode": {
    "name": "ipython",
    "version": 3
   },
   "file_extension": ".py",
   "mimetype": "text/x-python",
   "name": "python",
   "nbconvert_exporter": "python",
   "pygments_lexer": "ipython3",
   "version": "3.9.16"
  },
  "varInspector": {
   "cols": {
    "lenName": 16,
    "lenType": 16,
    "lenVar": 40
   },
   "kernels_config": {
    "python": {
     "delete_cmd_postfix": "",
     "delete_cmd_prefix": "del ",
     "library": "var_list.py",
     "varRefreshCmd": "print(var_dic_list())"
    },
    "r": {
     "delete_cmd_postfix": ") ",
     "delete_cmd_prefix": "rm(",
     "library": "var_list.r",
     "varRefreshCmd": "cat(var_dic_list()) "
    }
   },
   "position": {
    "height": "349.844px",
    "left": "1550px",
    "right": "20px",
    "top": "120px",
    "width": "350px"
   },
   "types_to_exclude": [
    "module",
    "function",
    "builtin_function_or_method",
    "instance",
    "_Feature"
   ],
   "window_display": true
  }
 },
 "nbformat": 4,
 "nbformat_minor": 5
}
